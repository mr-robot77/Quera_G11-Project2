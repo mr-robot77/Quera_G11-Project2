{
 "cells": [
  {
   "cell_type": "code",
   "execution_count": 1,
   "metadata": {},
   "outputs": [],
   "source": [
    "import warnings\n",
    "\n",
    "warnings.filterwarnings(\"ignore\")"
   ]
  },
  {
   "cell_type": "code",
   "execution_count": 2,
   "metadata": {},
   "outputs": [],
   "source": [
    "import numpy as np\n",
    "import pandas as pd\n",
    "import matplotlib.pyplot as plt\n",
    "from sklearn.preprocessing import StandardScaler, MinMaxScaler, PowerTransformer\n",
    "from sklearn.metrics import (\n",
    "    accuracy_score,\n",
    "    f1_score,\n",
    "    precision_score,\n",
    "    recall_score,\n",
    "    mean_squared_error,\n",
    "    auc,\n",
    "    roc_curve,\n",
    "    roc_auc_score,\n",
    "    confusion_matrix,\n",
    "    classification_report,\n",
    ")"
   ]
  },
  {
   "cell_type": "markdown",
   "metadata": {},
   "source": [
    "# Get Data\n"
   ]
  },
  {
   "cell_type": "code",
   "execution_count": 3,
   "metadata": {},
   "outputs": [],
   "source": [
    "# ! pip install yfinance"
   ]
  },
  {
   "cell_type": "code",
   "execution_count": 4,
   "metadata": {},
   "outputs": [
    {
     "name": "stdout",
     "output_type": "stream",
     "text": [
      "[*********************100%%**********************]  1 of 1 completed\n"
     ]
    }
   ],
   "source": [
    "import yfinance as yf\n",
    "\n",
    "xmr = yf.Ticker(\"XMR-USD\")\n",
    "df_xmr = yf.download(tickers=\"XMR-USD\", period=\"max\", interval=\"1d\")\n",
    "\n",
    "# xmr = yf.Ticker(\"BTC-USD\")\n",
    "# df_xmr = yf.download(tickers=\"BTC-USD\", period=\"max\", interval=\"1d\")"
   ]
  },
  {
   "cell_type": "code",
   "execution_count": 5,
   "metadata": {},
   "outputs": [
    {
     "data": {
      "text/html": [
       "<div>\n",
       "<style scoped>\n",
       "    .dataframe tbody tr th:only-of-type {\n",
       "        vertical-align: middle;\n",
       "    }\n",
       "\n",
       "    .dataframe tbody tr th {\n",
       "        vertical-align: top;\n",
       "    }\n",
       "\n",
       "    .dataframe thead th {\n",
       "        text-align: right;\n",
       "    }\n",
       "</style>\n",
       "<table border=\"1\" class=\"dataframe\">\n",
       "  <thead>\n",
       "    <tr style=\"text-align: right;\">\n",
       "      <th></th>\n",
       "      <th>Open</th>\n",
       "      <th>High</th>\n",
       "      <th>Low</th>\n",
       "      <th>Close</th>\n",
       "      <th>Adj Close</th>\n",
       "      <th>Volume</th>\n",
       "    </tr>\n",
       "    <tr>\n",
       "      <th>Date</th>\n",
       "      <th></th>\n",
       "      <th></th>\n",
       "      <th></th>\n",
       "      <th></th>\n",
       "      <th></th>\n",
       "      <th></th>\n",
       "    </tr>\n",
       "  </thead>\n",
       "  <tbody>\n",
       "    <tr>\n",
       "      <th>2017-11-09</th>\n",
       "      <td>112.531998</td>\n",
       "      <td>123.404999</td>\n",
       "      <td>112.219002</td>\n",
       "      <td>120.779999</td>\n",
       "      <td>120.779999</td>\n",
       "      <td>86864600</td>\n",
       "    </tr>\n",
       "    <tr>\n",
       "      <th>2017-11-10</th>\n",
       "      <td>121.344002</td>\n",
       "      <td>121.665001</td>\n",
       "      <td>101.757004</td>\n",
       "      <td>105.585999</td>\n",
       "      <td>105.585999</td>\n",
       "      <td>84614000</td>\n",
       "    </tr>\n",
       "    <tr>\n",
       "      <th>2017-11-11</th>\n",
       "      <td>105.750000</td>\n",
       "      <td>127.106003</td>\n",
       "      <td>103.877998</td>\n",
       "      <td>119.615997</td>\n",
       "      <td>119.615997</td>\n",
       "      <td>107708000</td>\n",
       "    </tr>\n",
       "    <tr>\n",
       "      <th>2017-11-12</th>\n",
       "      <td>119.597000</td>\n",
       "      <td>133.675003</td>\n",
       "      <td>110.617996</td>\n",
       "      <td>123.856003</td>\n",
       "      <td>123.856003</td>\n",
       "      <td>144948000</td>\n",
       "    </tr>\n",
       "    <tr>\n",
       "      <th>2017-11-13</th>\n",
       "      <td>128.960007</td>\n",
       "      <td>136.528000</td>\n",
       "      <td>120.921997</td>\n",
       "      <td>123.402000</td>\n",
       "      <td>123.402000</td>\n",
       "      <td>116200000</td>\n",
       "    </tr>\n",
       "    <tr>\n",
       "      <th>...</th>\n",
       "      <td>...</td>\n",
       "      <td>...</td>\n",
       "      <td>...</td>\n",
       "      <td>...</td>\n",
       "      <td>...</td>\n",
       "      <td>...</td>\n",
       "    </tr>\n",
       "    <tr>\n",
       "      <th>2023-10-14</th>\n",
       "      <td>153.583801</td>\n",
       "      <td>154.282990</td>\n",
       "      <td>151.850967</td>\n",
       "      <td>152.833160</td>\n",
       "      <td>152.833160</td>\n",
       "      <td>33344438</td>\n",
       "    </tr>\n",
       "    <tr>\n",
       "      <th>2023-10-15</th>\n",
       "      <td>152.833466</td>\n",
       "      <td>153.465881</td>\n",
       "      <td>152.173126</td>\n",
       "      <td>152.448990</td>\n",
       "      <td>152.448990</td>\n",
       "      <td>31895675</td>\n",
       "    </tr>\n",
       "    <tr>\n",
       "      <th>2023-10-16</th>\n",
       "      <td>152.437531</td>\n",
       "      <td>153.522949</td>\n",
       "      <td>151.155411</td>\n",
       "      <td>152.544098</td>\n",
       "      <td>152.544098</td>\n",
       "      <td>64382308</td>\n",
       "    </tr>\n",
       "    <tr>\n",
       "      <th>2023-10-17</th>\n",
       "      <td>152.532791</td>\n",
       "      <td>152.532791</td>\n",
       "      <td>149.571411</td>\n",
       "      <td>150.522949</td>\n",
       "      <td>150.522949</td>\n",
       "      <td>59794609</td>\n",
       "    </tr>\n",
       "    <tr>\n",
       "      <th>2023-10-18</th>\n",
       "      <td>150.552429</td>\n",
       "      <td>152.444458</td>\n",
       "      <td>150.155716</td>\n",
       "      <td>151.432220</td>\n",
       "      <td>151.432220</td>\n",
       "      <td>59932684</td>\n",
       "    </tr>\n",
       "  </tbody>\n",
       "</table>\n",
       "<p>2170 rows × 6 columns</p>\n",
       "</div>"
      ],
      "text/plain": [
       "                  Open        High         Low       Close   Adj Close  \\\n",
       "Date                                                                     \n",
       "2017-11-09  112.531998  123.404999  112.219002  120.779999  120.779999   \n",
       "2017-11-10  121.344002  121.665001  101.757004  105.585999  105.585999   \n",
       "2017-11-11  105.750000  127.106003  103.877998  119.615997  119.615997   \n",
       "2017-11-12  119.597000  133.675003  110.617996  123.856003  123.856003   \n",
       "2017-11-13  128.960007  136.528000  120.921997  123.402000  123.402000   \n",
       "...                ...         ...         ...         ...         ...   \n",
       "2023-10-14  153.583801  154.282990  151.850967  152.833160  152.833160   \n",
       "2023-10-15  152.833466  153.465881  152.173126  152.448990  152.448990   \n",
       "2023-10-16  152.437531  153.522949  151.155411  152.544098  152.544098   \n",
       "2023-10-17  152.532791  152.532791  149.571411  150.522949  150.522949   \n",
       "2023-10-18  150.552429  152.444458  150.155716  151.432220  151.432220   \n",
       "\n",
       "               Volume  \n",
       "Date                   \n",
       "2017-11-09   86864600  \n",
       "2017-11-10   84614000  \n",
       "2017-11-11  107708000  \n",
       "2017-11-12  144948000  \n",
       "2017-11-13  116200000  \n",
       "...               ...  \n",
       "2023-10-14   33344438  \n",
       "2023-10-15   31895675  \n",
       "2023-10-16   64382308  \n",
       "2023-10-17   59794609  \n",
       "2023-10-18   59932684  \n",
       "\n",
       "[2170 rows x 6 columns]"
      ]
     },
     "execution_count": 5,
     "metadata": {},
     "output_type": "execute_result"
    }
   ],
   "source": [
    "df_xmr"
   ]
  },
  {
   "cell_type": "code",
   "execution_count": 6,
   "metadata": {},
   "outputs": [
    {
     "data": {
      "text/html": [
       "<div>\n",
       "<style scoped>\n",
       "    .dataframe tbody tr th:only-of-type {\n",
       "        vertical-align: middle;\n",
       "    }\n",
       "\n",
       "    .dataframe tbody tr th {\n",
       "        vertical-align: top;\n",
       "    }\n",
       "\n",
       "    .dataframe thead th {\n",
       "        text-align: right;\n",
       "    }\n",
       "</style>\n",
       "<table border=\"1\" class=\"dataframe\">\n",
       "  <thead>\n",
       "    <tr style=\"text-align: right;\">\n",
       "      <th></th>\n",
       "      <th>Open</th>\n",
       "      <th>High</th>\n",
       "      <th>Low</th>\n",
       "      <th>Close</th>\n",
       "      <th>Adj Close</th>\n",
       "      <th>Volume</th>\n",
       "    </tr>\n",
       "  </thead>\n",
       "  <tbody>\n",
       "    <tr>\n",
       "      <th>count</th>\n",
       "      <td>2170.000000</td>\n",
       "      <td>2170.000000</td>\n",
       "      <td>2170.000000</td>\n",
       "      <td>2170.000000</td>\n",
       "      <td>2170.000000</td>\n",
       "      <td>2.170000e+03</td>\n",
       "    </tr>\n",
       "    <tr>\n",
       "      <th>mean</th>\n",
       "      <td>150.046511</td>\n",
       "      <td>155.404895</td>\n",
       "      <td>144.217264</td>\n",
       "      <td>150.030888</td>\n",
       "      <td>150.030888</td>\n",
       "      <td>2.427913e+08</td>\n",
       "    </tr>\n",
       "    <tr>\n",
       "      <th>std</th>\n",
       "      <td>81.476661</td>\n",
       "      <td>85.941782</td>\n",
       "      <td>76.394347</td>\n",
       "      <td>81.421979</td>\n",
       "      <td>81.421979</td>\n",
       "      <td>9.977934e+08</td>\n",
       "    </tr>\n",
       "    <tr>\n",
       "      <th>min</th>\n",
       "      <td>33.084614</td>\n",
       "      <td>36.645374</td>\n",
       "      <td>26.703888</td>\n",
       "      <td>33.010323</td>\n",
       "      <td>33.010323</td>\n",
       "      <td>1.016030e+07</td>\n",
       "    </tr>\n",
       "    <tr>\n",
       "      <th>25%</th>\n",
       "      <td>83.937435</td>\n",
       "      <td>87.292955</td>\n",
       "      <td>80.620262</td>\n",
       "      <td>83.923874</td>\n",
       "      <td>83.923874</td>\n",
       "      <td>6.354276e+07</td>\n",
       "    </tr>\n",
       "    <tr>\n",
       "      <th>50%</th>\n",
       "      <td>144.278290</td>\n",
       "      <td>147.416046</td>\n",
       "      <td>141.305954</td>\n",
       "      <td>144.346733</td>\n",
       "      <td>144.346733</td>\n",
       "      <td>1.010985e+08</td>\n",
       "    </tr>\n",
       "    <tr>\n",
       "      <th>75%</th>\n",
       "      <td>190.517448</td>\n",
       "      <td>199.267601</td>\n",
       "      <td>183.082325</td>\n",
       "      <td>190.412144</td>\n",
       "      <td>190.412144</td>\n",
       "      <td>1.889724e+08</td>\n",
       "    </tr>\n",
       "    <tr>\n",
       "      <th>max</th>\n",
       "      <td>483.709991</td>\n",
       "      <td>517.620239</td>\n",
       "      <td>453.390991</td>\n",
       "      <td>483.583618</td>\n",
       "      <td>483.583618</td>\n",
       "      <td>2.895912e+10</td>\n",
       "    </tr>\n",
       "  </tbody>\n",
       "</table>\n",
       "</div>"
      ],
      "text/plain": [
       "              Open         High          Low        Close    Adj Close  \\\n",
       "count  2170.000000  2170.000000  2170.000000  2170.000000  2170.000000   \n",
       "mean    150.046511   155.404895   144.217264   150.030888   150.030888   \n",
       "std      81.476661    85.941782    76.394347    81.421979    81.421979   \n",
       "min      33.084614    36.645374    26.703888    33.010323    33.010323   \n",
       "25%      83.937435    87.292955    80.620262    83.923874    83.923874   \n",
       "50%     144.278290   147.416046   141.305954   144.346733   144.346733   \n",
       "75%     190.517448   199.267601   183.082325   190.412144   190.412144   \n",
       "max     483.709991   517.620239   453.390991   483.583618   483.583618   \n",
       "\n",
       "             Volume  \n",
       "count  2.170000e+03  \n",
       "mean   2.427913e+08  \n",
       "std    9.977934e+08  \n",
       "min    1.016030e+07  \n",
       "25%    6.354276e+07  \n",
       "50%    1.010985e+08  \n",
       "75%    1.889724e+08  \n",
       "max    2.895912e+10  "
      ]
     },
     "execution_count": 6,
     "metadata": {},
     "output_type": "execute_result"
    }
   ],
   "source": [
    "df_xmr.describe()"
   ]
  },
  {
   "cell_type": "markdown",
   "metadata": {},
   "source": [
    "# Make Label\n"
   ]
  },
  {
   "cell_type": "code",
   "execution_count": 7,
   "metadata": {},
   "outputs": [],
   "source": [
    "df_xmr[\"Close_difference\"] = df_xmr[\"Close\"].shift(-1) - df_xmr[\"Close\"]\n",
    "df = df_xmr.copy()"
   ]
  },
  {
   "cell_type": "markdown",
   "metadata": {},
   "source": [
    "##### method1\n"
   ]
  },
  {
   "cell_type": "code",
   "execution_count": 8,
   "metadata": {},
   "outputs": [
    {
     "data": {
      "text/html": [
       "<div>\n",
       "<style scoped>\n",
       "    .dataframe tbody tr th:only-of-type {\n",
       "        vertical-align: middle;\n",
       "    }\n",
       "\n",
       "    .dataframe tbody tr th {\n",
       "        vertical-align: top;\n",
       "    }\n",
       "\n",
       "    .dataframe thead th {\n",
       "        text-align: right;\n",
       "    }\n",
       "</style>\n",
       "<table border=\"1\" class=\"dataframe\">\n",
       "  <thead>\n",
       "    <tr style=\"text-align: right;\">\n",
       "      <th></th>\n",
       "      <th>Open</th>\n",
       "      <th>High</th>\n",
       "      <th>Low</th>\n",
       "      <th>Close</th>\n",
       "      <th>Adj Close</th>\n",
       "      <th>Volume</th>\n",
       "      <th>Label</th>\n",
       "    </tr>\n",
       "    <tr>\n",
       "      <th>Date</th>\n",
       "      <th></th>\n",
       "      <th></th>\n",
       "      <th></th>\n",
       "      <th></th>\n",
       "      <th></th>\n",
       "      <th></th>\n",
       "      <th></th>\n",
       "    </tr>\n",
       "  </thead>\n",
       "  <tbody>\n",
       "    <tr>\n",
       "      <th>2017-11-09</th>\n",
       "      <td>112.531998</td>\n",
       "      <td>123.404999</td>\n",
       "      <td>112.219002</td>\n",
       "      <td>120.779999</td>\n",
       "      <td>120.779999</td>\n",
       "      <td>86864600</td>\n",
       "      <td>0</td>\n",
       "    </tr>\n",
       "    <tr>\n",
       "      <th>2017-11-10</th>\n",
       "      <td>121.344002</td>\n",
       "      <td>121.665001</td>\n",
       "      <td>101.757004</td>\n",
       "      <td>105.585999</td>\n",
       "      <td>105.585999</td>\n",
       "      <td>84614000</td>\n",
       "      <td>1</td>\n",
       "    </tr>\n",
       "    <tr>\n",
       "      <th>2017-11-11</th>\n",
       "      <td>105.750000</td>\n",
       "      <td>127.106003</td>\n",
       "      <td>103.877998</td>\n",
       "      <td>119.615997</td>\n",
       "      <td>119.615997</td>\n",
       "      <td>107708000</td>\n",
       "      <td>1</td>\n",
       "    </tr>\n",
       "    <tr>\n",
       "      <th>2017-11-12</th>\n",
       "      <td>119.597000</td>\n",
       "      <td>133.675003</td>\n",
       "      <td>110.617996</td>\n",
       "      <td>123.856003</td>\n",
       "      <td>123.856003</td>\n",
       "      <td>144948000</td>\n",
       "      <td>0</td>\n",
       "    </tr>\n",
       "    <tr>\n",
       "      <th>2017-11-13</th>\n",
       "      <td>128.960007</td>\n",
       "      <td>136.528000</td>\n",
       "      <td>120.921997</td>\n",
       "      <td>123.402000</td>\n",
       "      <td>123.402000</td>\n",
       "      <td>116200000</td>\n",
       "      <td>0</td>\n",
       "    </tr>\n",
       "    <tr>\n",
       "      <th>...</th>\n",
       "      <td>...</td>\n",
       "      <td>...</td>\n",
       "      <td>...</td>\n",
       "      <td>...</td>\n",
       "      <td>...</td>\n",
       "      <td>...</td>\n",
       "      <td>...</td>\n",
       "    </tr>\n",
       "    <tr>\n",
       "      <th>2023-10-14</th>\n",
       "      <td>153.583801</td>\n",
       "      <td>154.282990</td>\n",
       "      <td>151.850967</td>\n",
       "      <td>152.833160</td>\n",
       "      <td>152.833160</td>\n",
       "      <td>33344438</td>\n",
       "      <td>0</td>\n",
       "    </tr>\n",
       "    <tr>\n",
       "      <th>2023-10-15</th>\n",
       "      <td>152.833466</td>\n",
       "      <td>153.465881</td>\n",
       "      <td>152.173126</td>\n",
       "      <td>152.448990</td>\n",
       "      <td>152.448990</td>\n",
       "      <td>31895675</td>\n",
       "      <td>1</td>\n",
       "    </tr>\n",
       "    <tr>\n",
       "      <th>2023-10-16</th>\n",
       "      <td>152.437531</td>\n",
       "      <td>153.522949</td>\n",
       "      <td>151.155411</td>\n",
       "      <td>152.544098</td>\n",
       "      <td>152.544098</td>\n",
       "      <td>64382308</td>\n",
       "      <td>0</td>\n",
       "    </tr>\n",
       "    <tr>\n",
       "      <th>2023-10-17</th>\n",
       "      <td>152.532791</td>\n",
       "      <td>152.532791</td>\n",
       "      <td>149.571411</td>\n",
       "      <td>150.522949</td>\n",
       "      <td>150.522949</td>\n",
       "      <td>59794609</td>\n",
       "      <td>1</td>\n",
       "    </tr>\n",
       "    <tr>\n",
       "      <th>2023-10-18</th>\n",
       "      <td>150.552429</td>\n",
       "      <td>152.444458</td>\n",
       "      <td>150.155716</td>\n",
       "      <td>151.432220</td>\n",
       "      <td>151.432220</td>\n",
       "      <td>59932684</td>\n",
       "      <td>0</td>\n",
       "    </tr>\n",
       "  </tbody>\n",
       "</table>\n",
       "<p>2170 rows × 7 columns</p>\n",
       "</div>"
      ],
      "text/plain": [
       "                  Open        High         Low       Close   Adj Close  \\\n",
       "Date                                                                     \n",
       "2017-11-09  112.531998  123.404999  112.219002  120.779999  120.779999   \n",
       "2017-11-10  121.344002  121.665001  101.757004  105.585999  105.585999   \n",
       "2017-11-11  105.750000  127.106003  103.877998  119.615997  119.615997   \n",
       "2017-11-12  119.597000  133.675003  110.617996  123.856003  123.856003   \n",
       "2017-11-13  128.960007  136.528000  120.921997  123.402000  123.402000   \n",
       "...                ...         ...         ...         ...         ...   \n",
       "2023-10-14  153.583801  154.282990  151.850967  152.833160  152.833160   \n",
       "2023-10-15  152.833466  153.465881  152.173126  152.448990  152.448990   \n",
       "2023-10-16  152.437531  153.522949  151.155411  152.544098  152.544098   \n",
       "2023-10-17  152.532791  152.532791  149.571411  150.522949  150.522949   \n",
       "2023-10-18  150.552429  152.444458  150.155716  151.432220  151.432220   \n",
       "\n",
       "               Volume  Label  \n",
       "Date                          \n",
       "2017-11-09   86864600      0  \n",
       "2017-11-10   84614000      1  \n",
       "2017-11-11  107708000      1  \n",
       "2017-11-12  144948000      0  \n",
       "2017-11-13  116200000      0  \n",
       "...               ...    ...  \n",
       "2023-10-14   33344438      0  \n",
       "2023-10-15   31895675      1  \n",
       "2023-10-16   64382308      0  \n",
       "2023-10-17   59794609      1  \n",
       "2023-10-18   59932684      0  \n",
       "\n",
       "[2170 rows x 7 columns]"
      ]
     },
     "execution_count": 8,
     "metadata": {},
     "output_type": "execute_result"
    }
   ],
   "source": [
    "df[\"Label\"] = (df[\"Close_difference\"] > 0).astype(int)\n",
    "df.drop(\"Close_difference\", axis=1, inplace=True)\n",
    "df"
   ]
  },
  {
   "cell_type": "markdown",
   "metadata": {},
   "source": [
    "##### method2\n"
   ]
  },
  {
   "cell_type": "code",
   "execution_count": 9,
   "metadata": {},
   "outputs": [],
   "source": [
    "# def make_target(row):\n",
    "#     diff = row[\"Close_difference\"]\n",
    "#     n = 1\n",
    "#     if diff >= n:\n",
    "#         return 1\n",
    "#     if diff <= -n:\n",
    "#         return -1\n",
    "#     return 0\n",
    "\n",
    "\n",
    "# df[\"Label\"] = df.apply(make_target, axis=1)\n",
    "# df.drop(\"Close_difference\", axis=1, inplace=True)\n",
    "# df"
   ]
  },
  {
   "cell_type": "code",
   "execution_count": 10,
   "metadata": {},
   "outputs": [
    {
     "data": {
      "text/html": [
       "<div>\n",
       "<style scoped>\n",
       "    .dataframe tbody tr th:only-of-type {\n",
       "        vertical-align: middle;\n",
       "    }\n",
       "\n",
       "    .dataframe tbody tr th {\n",
       "        vertical-align: top;\n",
       "    }\n",
       "\n",
       "    .dataframe thead th {\n",
       "        text-align: right;\n",
       "    }\n",
       "</style>\n",
       "<table border=\"1\" class=\"dataframe\">\n",
       "  <thead>\n",
       "    <tr style=\"text-align: right;\">\n",
       "      <th></th>\n",
       "      <th>Date</th>\n",
       "      <th>Open</th>\n",
       "      <th>High</th>\n",
       "      <th>Low</th>\n",
       "      <th>Close</th>\n",
       "      <th>Adj Close</th>\n",
       "      <th>Volume</th>\n",
       "      <th>Label</th>\n",
       "    </tr>\n",
       "  </thead>\n",
       "  <tbody>\n",
       "    <tr>\n",
       "      <th>0</th>\n",
       "      <td>2017-11-09</td>\n",
       "      <td>112.531998</td>\n",
       "      <td>123.404999</td>\n",
       "      <td>112.219002</td>\n",
       "      <td>120.779999</td>\n",
       "      <td>120.779999</td>\n",
       "      <td>86864600</td>\n",
       "      <td>0</td>\n",
       "    </tr>\n",
       "    <tr>\n",
       "      <th>1</th>\n",
       "      <td>2017-11-10</td>\n",
       "      <td>121.344002</td>\n",
       "      <td>121.665001</td>\n",
       "      <td>101.757004</td>\n",
       "      <td>105.585999</td>\n",
       "      <td>105.585999</td>\n",
       "      <td>84614000</td>\n",
       "      <td>1</td>\n",
       "    </tr>\n",
       "    <tr>\n",
       "      <th>2</th>\n",
       "      <td>2017-11-11</td>\n",
       "      <td>105.750000</td>\n",
       "      <td>127.106003</td>\n",
       "      <td>103.877998</td>\n",
       "      <td>119.615997</td>\n",
       "      <td>119.615997</td>\n",
       "      <td>107708000</td>\n",
       "      <td>1</td>\n",
       "    </tr>\n",
       "    <tr>\n",
       "      <th>3</th>\n",
       "      <td>2017-11-12</td>\n",
       "      <td>119.597000</td>\n",
       "      <td>133.675003</td>\n",
       "      <td>110.617996</td>\n",
       "      <td>123.856003</td>\n",
       "      <td>123.856003</td>\n",
       "      <td>144948000</td>\n",
       "      <td>0</td>\n",
       "    </tr>\n",
       "    <tr>\n",
       "      <th>4</th>\n",
       "      <td>2017-11-13</td>\n",
       "      <td>128.960007</td>\n",
       "      <td>136.528000</td>\n",
       "      <td>120.921997</td>\n",
       "      <td>123.402000</td>\n",
       "      <td>123.402000</td>\n",
       "      <td>116200000</td>\n",
       "      <td>0</td>\n",
       "    </tr>\n",
       "    <tr>\n",
       "      <th>...</th>\n",
       "      <td>...</td>\n",
       "      <td>...</td>\n",
       "      <td>...</td>\n",
       "      <td>...</td>\n",
       "      <td>...</td>\n",
       "      <td>...</td>\n",
       "      <td>...</td>\n",
       "      <td>...</td>\n",
       "    </tr>\n",
       "    <tr>\n",
       "      <th>2165</th>\n",
       "      <td>2023-10-14</td>\n",
       "      <td>153.583801</td>\n",
       "      <td>154.282990</td>\n",
       "      <td>151.850967</td>\n",
       "      <td>152.833160</td>\n",
       "      <td>152.833160</td>\n",
       "      <td>33344438</td>\n",
       "      <td>0</td>\n",
       "    </tr>\n",
       "    <tr>\n",
       "      <th>2166</th>\n",
       "      <td>2023-10-15</td>\n",
       "      <td>152.833466</td>\n",
       "      <td>153.465881</td>\n",
       "      <td>152.173126</td>\n",
       "      <td>152.448990</td>\n",
       "      <td>152.448990</td>\n",
       "      <td>31895675</td>\n",
       "      <td>1</td>\n",
       "    </tr>\n",
       "    <tr>\n",
       "      <th>2167</th>\n",
       "      <td>2023-10-16</td>\n",
       "      <td>152.437531</td>\n",
       "      <td>153.522949</td>\n",
       "      <td>151.155411</td>\n",
       "      <td>152.544098</td>\n",
       "      <td>152.544098</td>\n",
       "      <td>64382308</td>\n",
       "      <td>0</td>\n",
       "    </tr>\n",
       "    <tr>\n",
       "      <th>2168</th>\n",
       "      <td>2023-10-17</td>\n",
       "      <td>152.532791</td>\n",
       "      <td>152.532791</td>\n",
       "      <td>149.571411</td>\n",
       "      <td>150.522949</td>\n",
       "      <td>150.522949</td>\n",
       "      <td>59794609</td>\n",
       "      <td>1</td>\n",
       "    </tr>\n",
       "    <tr>\n",
       "      <th>2169</th>\n",
       "      <td>2023-10-18</td>\n",
       "      <td>150.552429</td>\n",
       "      <td>152.444458</td>\n",
       "      <td>150.155716</td>\n",
       "      <td>151.432220</td>\n",
       "      <td>151.432220</td>\n",
       "      <td>59932684</td>\n",
       "      <td>0</td>\n",
       "    </tr>\n",
       "  </tbody>\n",
       "</table>\n",
       "<p>2170 rows × 8 columns</p>\n",
       "</div>"
      ],
      "text/plain": [
       "           Date        Open        High         Low       Close   Adj Close  \\\n",
       "0    2017-11-09  112.531998  123.404999  112.219002  120.779999  120.779999   \n",
       "1    2017-11-10  121.344002  121.665001  101.757004  105.585999  105.585999   \n",
       "2    2017-11-11  105.750000  127.106003  103.877998  119.615997  119.615997   \n",
       "3    2017-11-12  119.597000  133.675003  110.617996  123.856003  123.856003   \n",
       "4    2017-11-13  128.960007  136.528000  120.921997  123.402000  123.402000   \n",
       "...         ...         ...         ...         ...         ...         ...   \n",
       "2165 2023-10-14  153.583801  154.282990  151.850967  152.833160  152.833160   \n",
       "2166 2023-10-15  152.833466  153.465881  152.173126  152.448990  152.448990   \n",
       "2167 2023-10-16  152.437531  153.522949  151.155411  152.544098  152.544098   \n",
       "2168 2023-10-17  152.532791  152.532791  149.571411  150.522949  150.522949   \n",
       "2169 2023-10-18  150.552429  152.444458  150.155716  151.432220  151.432220   \n",
       "\n",
       "         Volume  Label  \n",
       "0      86864600      0  \n",
       "1      84614000      1  \n",
       "2     107708000      1  \n",
       "3     144948000      0  \n",
       "4     116200000      0  \n",
       "...         ...    ...  \n",
       "2165   33344438      0  \n",
       "2166   31895675      1  \n",
       "2167   64382308      0  \n",
       "2168   59794609      1  \n",
       "2169   59932684      0  \n",
       "\n",
       "[2170 rows x 8 columns]"
      ]
     },
     "execution_count": 10,
     "metadata": {},
     "output_type": "execute_result"
    }
   ],
   "source": [
    "df = df.reset_index(drop=False)\n",
    "df"
   ]
  },
  {
   "cell_type": "markdown",
   "metadata": {},
   "source": [
    "# Change Features\n"
   ]
  },
  {
   "cell_type": "code",
   "execution_count": 11,
   "metadata": {},
   "outputs": [
    {
     "data": {
      "text/html": [
       "<div>\n",
       "<style scoped>\n",
       "    .dataframe tbody tr th:only-of-type {\n",
       "        vertical-align: middle;\n",
       "    }\n",
       "\n",
       "    .dataframe tbody tr th {\n",
       "        vertical-align: top;\n",
       "    }\n",
       "\n",
       "    .dataframe thead th {\n",
       "        text-align: right;\n",
       "    }\n",
       "</style>\n",
       "<table border=\"1\" class=\"dataframe\">\n",
       "  <thead>\n",
       "    <tr style=\"text-align: right;\">\n",
       "      <th></th>\n",
       "      <th>Date</th>\n",
       "      <th>Open</th>\n",
       "      <th>High</th>\n",
       "      <th>Low</th>\n",
       "      <th>Close</th>\n",
       "      <th>Adj Close</th>\n",
       "      <th>Volume</th>\n",
       "      <th>Label</th>\n",
       "      <th>Variance</th>\n",
       "    </tr>\n",
       "  </thead>\n",
       "  <tbody>\n",
       "    <tr>\n",
       "      <th>0</th>\n",
       "      <td>2017-11-09</td>\n",
       "      <td>112.531998</td>\n",
       "      <td>123.404999</td>\n",
       "      <td>112.219002</td>\n",
       "      <td>120.779999</td>\n",
       "      <td>120.779999</td>\n",
       "      <td>86864600</td>\n",
       "      <td>0</td>\n",
       "      <td>11.185997</td>\n",
       "    </tr>\n",
       "    <tr>\n",
       "      <th>1</th>\n",
       "      <td>2017-11-10</td>\n",
       "      <td>121.344002</td>\n",
       "      <td>121.665001</td>\n",
       "      <td>101.757004</td>\n",
       "      <td>105.585999</td>\n",
       "      <td>105.585999</td>\n",
       "      <td>84614000</td>\n",
       "      <td>1</td>\n",
       "      <td>19.907997</td>\n",
       "    </tr>\n",
       "    <tr>\n",
       "      <th>2</th>\n",
       "      <td>2017-11-11</td>\n",
       "      <td>105.750000</td>\n",
       "      <td>127.106003</td>\n",
       "      <td>103.877998</td>\n",
       "      <td>119.615997</td>\n",
       "      <td>119.615997</td>\n",
       "      <td>107708000</td>\n",
       "      <td>1</td>\n",
       "      <td>23.228004</td>\n",
       "    </tr>\n",
       "    <tr>\n",
       "      <th>3</th>\n",
       "      <td>2017-11-12</td>\n",
       "      <td>119.597000</td>\n",
       "      <td>133.675003</td>\n",
       "      <td>110.617996</td>\n",
       "      <td>123.856003</td>\n",
       "      <td>123.856003</td>\n",
       "      <td>144948000</td>\n",
       "      <td>0</td>\n",
       "      <td>23.057007</td>\n",
       "    </tr>\n",
       "    <tr>\n",
       "      <th>4</th>\n",
       "      <td>2017-11-13</td>\n",
       "      <td>128.960007</td>\n",
       "      <td>136.528000</td>\n",
       "      <td>120.921997</td>\n",
       "      <td>123.402000</td>\n",
       "      <td>123.402000</td>\n",
       "      <td>116200000</td>\n",
       "      <td>0</td>\n",
       "      <td>15.606003</td>\n",
       "    </tr>\n",
       "    <tr>\n",
       "      <th>...</th>\n",
       "      <td>...</td>\n",
       "      <td>...</td>\n",
       "      <td>...</td>\n",
       "      <td>...</td>\n",
       "      <td>...</td>\n",
       "      <td>...</td>\n",
       "      <td>...</td>\n",
       "      <td>...</td>\n",
       "      <td>...</td>\n",
       "    </tr>\n",
       "    <tr>\n",
       "      <th>2165</th>\n",
       "      <td>2023-10-14</td>\n",
       "      <td>153.583801</td>\n",
       "      <td>154.282990</td>\n",
       "      <td>151.850967</td>\n",
       "      <td>152.833160</td>\n",
       "      <td>152.833160</td>\n",
       "      <td>33344438</td>\n",
       "      <td>0</td>\n",
       "      <td>2.432022</td>\n",
       "    </tr>\n",
       "    <tr>\n",
       "      <th>2166</th>\n",
       "      <td>2023-10-15</td>\n",
       "      <td>152.833466</td>\n",
       "      <td>153.465881</td>\n",
       "      <td>152.173126</td>\n",
       "      <td>152.448990</td>\n",
       "      <td>152.448990</td>\n",
       "      <td>31895675</td>\n",
       "      <td>1</td>\n",
       "      <td>1.292755</td>\n",
       "    </tr>\n",
       "    <tr>\n",
       "      <th>2167</th>\n",
       "      <td>2023-10-16</td>\n",
       "      <td>152.437531</td>\n",
       "      <td>153.522949</td>\n",
       "      <td>151.155411</td>\n",
       "      <td>152.544098</td>\n",
       "      <td>152.544098</td>\n",
       "      <td>64382308</td>\n",
       "      <td>0</td>\n",
       "      <td>2.367538</td>\n",
       "    </tr>\n",
       "    <tr>\n",
       "      <th>2168</th>\n",
       "      <td>2023-10-17</td>\n",
       "      <td>152.532791</td>\n",
       "      <td>152.532791</td>\n",
       "      <td>149.571411</td>\n",
       "      <td>150.522949</td>\n",
       "      <td>150.522949</td>\n",
       "      <td>59794609</td>\n",
       "      <td>1</td>\n",
       "      <td>2.961380</td>\n",
       "    </tr>\n",
       "    <tr>\n",
       "      <th>2169</th>\n",
       "      <td>2023-10-18</td>\n",
       "      <td>150.552429</td>\n",
       "      <td>152.444458</td>\n",
       "      <td>150.155716</td>\n",
       "      <td>151.432220</td>\n",
       "      <td>151.432220</td>\n",
       "      <td>59932684</td>\n",
       "      <td>0</td>\n",
       "      <td>2.288742</td>\n",
       "    </tr>\n",
       "  </tbody>\n",
       "</table>\n",
       "<p>2170 rows × 9 columns</p>\n",
       "</div>"
      ],
      "text/plain": [
       "           Date        Open        High         Low       Close   Adj Close  \\\n",
       "0    2017-11-09  112.531998  123.404999  112.219002  120.779999  120.779999   \n",
       "1    2017-11-10  121.344002  121.665001  101.757004  105.585999  105.585999   \n",
       "2    2017-11-11  105.750000  127.106003  103.877998  119.615997  119.615997   \n",
       "3    2017-11-12  119.597000  133.675003  110.617996  123.856003  123.856003   \n",
       "4    2017-11-13  128.960007  136.528000  120.921997  123.402000  123.402000   \n",
       "...         ...         ...         ...         ...         ...         ...   \n",
       "2165 2023-10-14  153.583801  154.282990  151.850967  152.833160  152.833160   \n",
       "2166 2023-10-15  152.833466  153.465881  152.173126  152.448990  152.448990   \n",
       "2167 2023-10-16  152.437531  153.522949  151.155411  152.544098  152.544098   \n",
       "2168 2023-10-17  152.532791  152.532791  149.571411  150.522949  150.522949   \n",
       "2169 2023-10-18  150.552429  152.444458  150.155716  151.432220  151.432220   \n",
       "\n",
       "         Volume  Label   Variance  \n",
       "0      86864600      0  11.185997  \n",
       "1      84614000      1  19.907997  \n",
       "2     107708000      1  23.228004  \n",
       "3     144948000      0  23.057007  \n",
       "4     116200000      0  15.606003  \n",
       "...         ...    ...        ...  \n",
       "2165   33344438      0   2.432022  \n",
       "2166   31895675      1   1.292755  \n",
       "2167   64382308      0   2.367538  \n",
       "2168   59794609      1   2.961380  \n",
       "2169   59932684      0   2.288742  \n",
       "\n",
       "[2170 rows x 9 columns]"
      ]
     },
     "execution_count": 11,
     "metadata": {},
     "output_type": "execute_result"
    }
   ],
   "source": [
    "df[\"Variance\"] = df[\"High\"] - df[\"Low\"]\n",
    "df"
   ]
  },
  {
   "cell_type": "code",
   "execution_count": 12,
   "metadata": {},
   "outputs": [
    {
     "data": {
      "text/html": [
       "<div>\n",
       "<style scoped>\n",
       "    .dataframe tbody tr th:only-of-type {\n",
       "        vertical-align: middle;\n",
       "    }\n",
       "\n",
       "    .dataframe tbody tr th {\n",
       "        vertical-align: top;\n",
       "    }\n",
       "\n",
       "    .dataframe thead th {\n",
       "        text-align: right;\n",
       "    }\n",
       "</style>\n",
       "<table border=\"1\" class=\"dataframe\">\n",
       "  <thead>\n",
       "    <tr style=\"text-align: right;\">\n",
       "      <th></th>\n",
       "      <th>Date</th>\n",
       "      <th>Close</th>\n",
       "      <th>Volume</th>\n",
       "      <th>Label</th>\n",
       "      <th>Variance</th>\n",
       "    </tr>\n",
       "  </thead>\n",
       "  <tbody>\n",
       "    <tr>\n",
       "      <th>0</th>\n",
       "      <td>2017-11-09</td>\n",
       "      <td>120.779999</td>\n",
       "      <td>86864600</td>\n",
       "      <td>0</td>\n",
       "      <td>11.185997</td>\n",
       "    </tr>\n",
       "    <tr>\n",
       "      <th>1</th>\n",
       "      <td>2017-11-10</td>\n",
       "      <td>105.585999</td>\n",
       "      <td>84614000</td>\n",
       "      <td>1</td>\n",
       "      <td>19.907997</td>\n",
       "    </tr>\n",
       "    <tr>\n",
       "      <th>2</th>\n",
       "      <td>2017-11-11</td>\n",
       "      <td>119.615997</td>\n",
       "      <td>107708000</td>\n",
       "      <td>1</td>\n",
       "      <td>23.228004</td>\n",
       "    </tr>\n",
       "    <tr>\n",
       "      <th>3</th>\n",
       "      <td>2017-11-12</td>\n",
       "      <td>123.856003</td>\n",
       "      <td>144948000</td>\n",
       "      <td>0</td>\n",
       "      <td>23.057007</td>\n",
       "    </tr>\n",
       "    <tr>\n",
       "      <th>4</th>\n",
       "      <td>2017-11-13</td>\n",
       "      <td>123.402000</td>\n",
       "      <td>116200000</td>\n",
       "      <td>0</td>\n",
       "      <td>15.606003</td>\n",
       "    </tr>\n",
       "    <tr>\n",
       "      <th>...</th>\n",
       "      <td>...</td>\n",
       "      <td>...</td>\n",
       "      <td>...</td>\n",
       "      <td>...</td>\n",
       "      <td>...</td>\n",
       "    </tr>\n",
       "    <tr>\n",
       "      <th>2165</th>\n",
       "      <td>2023-10-14</td>\n",
       "      <td>152.833160</td>\n",
       "      <td>33344438</td>\n",
       "      <td>0</td>\n",
       "      <td>2.432022</td>\n",
       "    </tr>\n",
       "    <tr>\n",
       "      <th>2166</th>\n",
       "      <td>2023-10-15</td>\n",
       "      <td>152.448990</td>\n",
       "      <td>31895675</td>\n",
       "      <td>1</td>\n",
       "      <td>1.292755</td>\n",
       "    </tr>\n",
       "    <tr>\n",
       "      <th>2167</th>\n",
       "      <td>2023-10-16</td>\n",
       "      <td>152.544098</td>\n",
       "      <td>64382308</td>\n",
       "      <td>0</td>\n",
       "      <td>2.367538</td>\n",
       "    </tr>\n",
       "    <tr>\n",
       "      <th>2168</th>\n",
       "      <td>2023-10-17</td>\n",
       "      <td>150.522949</td>\n",
       "      <td>59794609</td>\n",
       "      <td>1</td>\n",
       "      <td>2.961380</td>\n",
       "    </tr>\n",
       "    <tr>\n",
       "      <th>2169</th>\n",
       "      <td>2023-10-18</td>\n",
       "      <td>151.432220</td>\n",
       "      <td>59932684</td>\n",
       "      <td>0</td>\n",
       "      <td>2.288742</td>\n",
       "    </tr>\n",
       "  </tbody>\n",
       "</table>\n",
       "<p>2170 rows × 5 columns</p>\n",
       "</div>"
      ],
      "text/plain": [
       "           Date       Close     Volume  Label   Variance\n",
       "0    2017-11-09  120.779999   86864600      0  11.185997\n",
       "1    2017-11-10  105.585999   84614000      1  19.907997\n",
       "2    2017-11-11  119.615997  107708000      1  23.228004\n",
       "3    2017-11-12  123.856003  144948000      0  23.057007\n",
       "4    2017-11-13  123.402000  116200000      0  15.606003\n",
       "...         ...         ...        ...    ...        ...\n",
       "2165 2023-10-14  152.833160   33344438      0   2.432022\n",
       "2166 2023-10-15  152.448990   31895675      1   1.292755\n",
       "2167 2023-10-16  152.544098   64382308      0   2.367538\n",
       "2168 2023-10-17  150.522949   59794609      1   2.961380\n",
       "2169 2023-10-18  151.432220   59932684      0   2.288742\n",
       "\n",
       "[2170 rows x 5 columns]"
      ]
     },
     "execution_count": 12,
     "metadata": {},
     "output_type": "execute_result"
    }
   ],
   "source": [
    "df.drop(columns=[\"Open\", \"High\", \"Low\", \"Adj Close\"], inplace=True)\n",
    "df"
   ]
  },
  {
   "cell_type": "markdown",
   "metadata": {},
   "source": [
    "# Fetching Data on a Specific Date\n"
   ]
  },
  {
   "cell_type": "code",
   "execution_count": 13,
   "metadata": {},
   "outputs": [
    {
     "data": {
      "text/html": [
       "<div>\n",
       "<style scoped>\n",
       "    .dataframe tbody tr th:only-of-type {\n",
       "        vertical-align: middle;\n",
       "    }\n",
       "\n",
       "    .dataframe tbody tr th {\n",
       "        vertical-align: top;\n",
       "    }\n",
       "\n",
       "    .dataframe thead th {\n",
       "        text-align: right;\n",
       "    }\n",
       "</style>\n",
       "<table border=\"1\" class=\"dataframe\">\n",
       "  <thead>\n",
       "    <tr style=\"text-align: right;\">\n",
       "      <th></th>\n",
       "      <th>Date</th>\n",
       "      <th>Close</th>\n",
       "      <th>Volume</th>\n",
       "      <th>Label</th>\n",
       "      <th>Variance</th>\n",
       "    </tr>\n",
       "  </thead>\n",
       "  <tbody>\n",
       "    <tr>\n",
       "      <th>0</th>\n",
       "      <td>2017-11-09</td>\n",
       "      <td>120.779999</td>\n",
       "      <td>86864600</td>\n",
       "      <td>0</td>\n",
       "      <td>11.185997</td>\n",
       "    </tr>\n",
       "    <tr>\n",
       "      <th>1</th>\n",
       "      <td>2017-11-10</td>\n",
       "      <td>105.585999</td>\n",
       "      <td>84614000</td>\n",
       "      <td>1</td>\n",
       "      <td>19.907997</td>\n",
       "    </tr>\n",
       "    <tr>\n",
       "      <th>2</th>\n",
       "      <td>2017-11-11</td>\n",
       "      <td>119.615997</td>\n",
       "      <td>107708000</td>\n",
       "      <td>1</td>\n",
       "      <td>23.228004</td>\n",
       "    </tr>\n",
       "    <tr>\n",
       "      <th>3</th>\n",
       "      <td>2017-11-12</td>\n",
       "      <td>123.856003</td>\n",
       "      <td>144948000</td>\n",
       "      <td>0</td>\n",
       "      <td>23.057007</td>\n",
       "    </tr>\n",
       "    <tr>\n",
       "      <th>4</th>\n",
       "      <td>2017-11-13</td>\n",
       "      <td>123.402000</td>\n",
       "      <td>116200000</td>\n",
       "      <td>0</td>\n",
       "      <td>15.606003</td>\n",
       "    </tr>\n",
       "    <tr>\n",
       "      <th>...</th>\n",
       "      <td>...</td>\n",
       "      <td>...</td>\n",
       "      <td>...</td>\n",
       "      <td>...</td>\n",
       "      <td>...</td>\n",
       "    </tr>\n",
       "    <tr>\n",
       "      <th>2154</th>\n",
       "      <td>2023-10-03</td>\n",
       "      <td>147.151352</td>\n",
       "      <td>49389643</td>\n",
       "      <td>1</td>\n",
       "      <td>2.639694</td>\n",
       "    </tr>\n",
       "    <tr>\n",
       "      <th>2155</th>\n",
       "      <td>2023-10-04</td>\n",
       "      <td>150.469055</td>\n",
       "      <td>59400400</td>\n",
       "      <td>0</td>\n",
       "      <td>4.761566</td>\n",
       "    </tr>\n",
       "    <tr>\n",
       "      <th>2156</th>\n",
       "      <td>2023-10-05</td>\n",
       "      <td>149.623718</td>\n",
       "      <td>55704972</td>\n",
       "      <td>1</td>\n",
       "      <td>2.762878</td>\n",
       "    </tr>\n",
       "    <tr>\n",
       "      <th>2157</th>\n",
       "      <td>2023-10-06</td>\n",
       "      <td>151.992264</td>\n",
       "      <td>49535004</td>\n",
       "      <td>1</td>\n",
       "      <td>4.027649</td>\n",
       "    </tr>\n",
       "    <tr>\n",
       "      <th>2158</th>\n",
       "      <td>2023-10-07</td>\n",
       "      <td>155.212143</td>\n",
       "      <td>61159796</td>\n",
       "      <td>1</td>\n",
       "      <td>4.146545</td>\n",
       "    </tr>\n",
       "  </tbody>\n",
       "</table>\n",
       "<p>2159 rows × 5 columns</p>\n",
       "</div>"
      ],
      "text/plain": [
       "           Date       Close     Volume  Label   Variance\n",
       "0    2017-11-09  120.779999   86864600      0  11.185997\n",
       "1    2017-11-10  105.585999   84614000      1  19.907997\n",
       "2    2017-11-11  119.615997  107708000      1  23.228004\n",
       "3    2017-11-12  123.856003  144948000      0  23.057007\n",
       "4    2017-11-13  123.402000  116200000      0  15.606003\n",
       "...         ...         ...        ...    ...        ...\n",
       "2154 2023-10-03  147.151352   49389643      1   2.639694\n",
       "2155 2023-10-04  150.469055   59400400      0   4.761566\n",
       "2156 2023-10-05  149.623718   55704972      1   2.762878\n",
       "2157 2023-10-06  151.992264   49535004      1   4.027649\n",
       "2158 2023-10-07  155.212143   61159796      1   4.146545\n",
       "\n",
       "[2159 rows x 5 columns]"
      ]
     },
     "execution_count": 13,
     "metadata": {},
     "output_type": "execute_result"
    }
   ],
   "source": [
    "start_date_train_test = \"2017-11-09\"\n",
    "end_date_train_test = \"2023-10-07\"\n",
    "\n",
    "df_train_test = df[\n",
    "    (df[\"Date\"] >= start_date_train_test) & (df[\"Date\"] <= end_date_train_test)\n",
    "].reset_index(drop=True)\n",
    "df_train_test"
   ]
  },
  {
   "cell_type": "markdown",
   "metadata": {},
   "source": [
    "# Split Data into Train and Test\n"
   ]
  },
  {
   "cell_type": "code",
   "execution_count": 14,
   "metadata": {},
   "outputs": [],
   "source": [
    "def train_test_split_by_date(\n",
    "    df: pd.DataFrame,\n",
    "    start_date_train: str,\n",
    "    end_date_train: str,\n",
    "    start_date_test: str,\n",
    "    end_date_test: str,\n",
    "    divide_X_y: bool = True,\n",
    "    test: bool = True,\n",
    "):\n",
    "    df_train = df[\n",
    "        (df[\"Date\"] >= start_date_train) & (df[\"Date\"] <= end_date_train)\n",
    "    ].reset_index(drop=True)\n",
    "\n",
    "    df_test = df[\n",
    "        (df[\"Date\"] >= start_date_test) & (df[\"Date\"] <= end_date_test)\n",
    "    ].reset_index(drop=True)\n",
    "\n",
    "    if divide_X_y:\n",
    "        X_train = df_train.drop(columns=[\"Label\"])\n",
    "        y_train = df_train[\"Label\"]\n",
    "        if test:\n",
    "            X_test = df_test.drop(columns=[\"Label\"])\n",
    "            y_test = df_test[\"Label\"]\n",
    "            return X_train, X_test, y_train, y_test\n",
    "        return X_train, y_train\n",
    "\n",
    "    return df_train, df_test"
   ]
  },
  {
   "cell_type": "code",
   "execution_count": 15,
   "metadata": {},
   "outputs": [
    {
     "data": {
      "text/html": [
       "<div>\n",
       "<style scoped>\n",
       "    .dataframe tbody tr th:only-of-type {\n",
       "        vertical-align: middle;\n",
       "    }\n",
       "\n",
       "    .dataframe tbody tr th {\n",
       "        vertical-align: top;\n",
       "    }\n",
       "\n",
       "    .dataframe thead th {\n",
       "        text-align: right;\n",
       "    }\n",
       "</style>\n",
       "<table border=\"1\" class=\"dataframe\">\n",
       "  <thead>\n",
       "    <tr style=\"text-align: right;\">\n",
       "      <th></th>\n",
       "      <th>Date</th>\n",
       "      <th>Close</th>\n",
       "      <th>Volume</th>\n",
       "      <th>Label</th>\n",
       "      <th>Variance</th>\n",
       "    </tr>\n",
       "  </thead>\n",
       "  <tbody>\n",
       "    <tr>\n",
       "      <th>0</th>\n",
       "      <td>2023-09-08</td>\n",
       "      <td>143.886154</td>\n",
       "      <td>46927009</td>\n",
       "      <td>0</td>\n",
       "      <td>3.195389</td>\n",
       "    </tr>\n",
       "    <tr>\n",
       "      <th>1</th>\n",
       "      <td>2023-09-09</td>\n",
       "      <td>143.406815</td>\n",
       "      <td>35896666</td>\n",
       "      <td>0</td>\n",
       "      <td>1.677582</td>\n",
       "    </tr>\n",
       "    <tr>\n",
       "      <th>2</th>\n",
       "      <td>2023-09-10</td>\n",
       "      <td>142.894440</td>\n",
       "      <td>33705148</td>\n",
       "      <td>0</td>\n",
       "      <td>1.965088</td>\n",
       "    </tr>\n",
       "    <tr>\n",
       "      <th>3</th>\n",
       "      <td>2023-09-11</td>\n",
       "      <td>139.930466</td>\n",
       "      <td>58031716</td>\n",
       "      <td>1</td>\n",
       "      <td>5.441772</td>\n",
       "    </tr>\n",
       "    <tr>\n",
       "      <th>4</th>\n",
       "      <td>2023-09-12</td>\n",
       "      <td>140.804672</td>\n",
       "      <td>57433672</td>\n",
       "      <td>1</td>\n",
       "      <td>3.567017</td>\n",
       "    </tr>\n",
       "    <tr>\n",
       "      <th>5</th>\n",
       "      <td>2023-09-13</td>\n",
       "      <td>143.115967</td>\n",
       "      <td>54374646</td>\n",
       "      <td>1</td>\n",
       "      <td>4.085739</td>\n",
       "    </tr>\n",
       "    <tr>\n",
       "      <th>6</th>\n",
       "      <td>2023-09-14</td>\n",
       "      <td>146.329483</td>\n",
       "      <td>44084896</td>\n",
       "      <td>1</td>\n",
       "      <td>4.750565</td>\n",
       "    </tr>\n",
       "    <tr>\n",
       "      <th>7</th>\n",
       "      <td>2023-09-15</td>\n",
       "      <td>147.350723</td>\n",
       "      <td>57280169</td>\n",
       "      <td>0</td>\n",
       "      <td>2.792572</td>\n",
       "    </tr>\n",
       "    <tr>\n",
       "      <th>8</th>\n",
       "      <td>2023-09-16</td>\n",
       "      <td>144.624649</td>\n",
       "      <td>34872985</td>\n",
       "      <td>1</td>\n",
       "      <td>3.754654</td>\n",
       "    </tr>\n",
       "    <tr>\n",
       "      <th>9</th>\n",
       "      <td>2023-09-17</td>\n",
       "      <td>145.797852</td>\n",
       "      <td>31255846</td>\n",
       "      <td>0</td>\n",
       "      <td>2.700851</td>\n",
       "    </tr>\n",
       "    <tr>\n",
       "      <th>10</th>\n",
       "      <td>2023-09-18</td>\n",
       "      <td>145.769226</td>\n",
       "      <td>45155110</td>\n",
       "      <td>1</td>\n",
       "      <td>2.926178</td>\n",
       "    </tr>\n",
       "    <tr>\n",
       "      <th>11</th>\n",
       "      <td>2023-09-19</td>\n",
       "      <td>147.695923</td>\n",
       "      <td>39757092</td>\n",
       "      <td>1</td>\n",
       "      <td>2.826614</td>\n",
       "    </tr>\n",
       "    <tr>\n",
       "      <th>12</th>\n",
       "      <td>2023-09-20</td>\n",
       "      <td>148.116745</td>\n",
       "      <td>46811934</td>\n",
       "      <td>0</td>\n",
       "      <td>2.409698</td>\n",
       "    </tr>\n",
       "    <tr>\n",
       "      <th>13</th>\n",
       "      <td>2023-09-21</td>\n",
       "      <td>145.199112</td>\n",
       "      <td>42424759</td>\n",
       "      <td>0</td>\n",
       "      <td>3.070587</td>\n",
       "    </tr>\n",
       "    <tr>\n",
       "      <th>14</th>\n",
       "      <td>2023-09-22</td>\n",
       "      <td>145.055939</td>\n",
       "      <td>38471061</td>\n",
       "      <td>0</td>\n",
       "      <td>2.239777</td>\n",
       "    </tr>\n",
       "    <tr>\n",
       "      <th>15</th>\n",
       "      <td>2023-09-23</td>\n",
       "      <td>141.797470</td>\n",
       "      <td>33917253</td>\n",
       "      <td>1</td>\n",
       "      <td>3.824707</td>\n",
       "    </tr>\n",
       "    <tr>\n",
       "      <th>16</th>\n",
       "      <td>2023-09-24</td>\n",
       "      <td>143.733932</td>\n",
       "      <td>32559994</td>\n",
       "      <td>1</td>\n",
       "      <td>2.726685</td>\n",
       "    </tr>\n",
       "    <tr>\n",
       "      <th>17</th>\n",
       "      <td>2023-09-25</td>\n",
       "      <td>144.453964</td>\n",
       "      <td>42685360</td>\n",
       "      <td>1</td>\n",
       "      <td>2.283798</td>\n",
       "    </tr>\n",
       "    <tr>\n",
       "      <th>18</th>\n",
       "      <td>2023-09-26</td>\n",
       "      <td>144.818741</td>\n",
       "      <td>41884784</td>\n",
       "      <td>1</td>\n",
       "      <td>1.966599</td>\n",
       "    </tr>\n",
       "    <tr>\n",
       "      <th>19</th>\n",
       "      <td>2023-09-27</td>\n",
       "      <td>146.434097</td>\n",
       "      <td>46912869</td>\n",
       "      <td>0</td>\n",
       "      <td>2.339920</td>\n",
       "    </tr>\n",
       "    <tr>\n",
       "      <th>20</th>\n",
       "      <td>2023-09-28</td>\n",
       "      <td>146.061279</td>\n",
       "      <td>44650519</td>\n",
       "      <td>1</td>\n",
       "      <td>2.036285</td>\n",
       "    </tr>\n",
       "    <tr>\n",
       "      <th>21</th>\n",
       "      <td>2023-09-29</td>\n",
       "      <td>146.837479</td>\n",
       "      <td>36492709</td>\n",
       "      <td>0</td>\n",
       "      <td>1.901733</td>\n",
       "    </tr>\n",
       "    <tr>\n",
       "      <th>22</th>\n",
       "      <td>2023-09-30</td>\n",
       "      <td>146.554260</td>\n",
       "      <td>40874840</td>\n",
       "      <td>1</td>\n",
       "      <td>2.760117</td>\n",
       "    </tr>\n",
       "    <tr>\n",
       "      <th>23</th>\n",
       "      <td>2023-10-01</td>\n",
       "      <td>149.161407</td>\n",
       "      <td>68116546</td>\n",
       "      <td>0</td>\n",
       "      <td>3.901871</td>\n",
       "    </tr>\n",
       "    <tr>\n",
       "      <th>24</th>\n",
       "      <td>2023-10-02</td>\n",
       "      <td>146.203430</td>\n",
       "      <td>62225244</td>\n",
       "      <td>1</td>\n",
       "      <td>4.495163</td>\n",
       "    </tr>\n",
       "    <tr>\n",
       "      <th>25</th>\n",
       "      <td>2023-10-03</td>\n",
       "      <td>147.151352</td>\n",
       "      <td>49389643</td>\n",
       "      <td>1</td>\n",
       "      <td>2.639694</td>\n",
       "    </tr>\n",
       "    <tr>\n",
       "      <th>26</th>\n",
       "      <td>2023-10-04</td>\n",
       "      <td>150.469055</td>\n",
       "      <td>59400400</td>\n",
       "      <td>0</td>\n",
       "      <td>4.761566</td>\n",
       "    </tr>\n",
       "    <tr>\n",
       "      <th>27</th>\n",
       "      <td>2023-10-05</td>\n",
       "      <td>149.623718</td>\n",
       "      <td>55704972</td>\n",
       "      <td>1</td>\n",
       "      <td>2.762878</td>\n",
       "    </tr>\n",
       "    <tr>\n",
       "      <th>28</th>\n",
       "      <td>2023-10-06</td>\n",
       "      <td>151.992264</td>\n",
       "      <td>49535004</td>\n",
       "      <td>1</td>\n",
       "      <td>4.027649</td>\n",
       "    </tr>\n",
       "    <tr>\n",
       "      <th>29</th>\n",
       "      <td>2023-10-07</td>\n",
       "      <td>155.212143</td>\n",
       "      <td>61159796</td>\n",
       "      <td>1</td>\n",
       "      <td>4.146545</td>\n",
       "    </tr>\n",
       "  </tbody>\n",
       "</table>\n",
       "</div>"
      ],
      "text/plain": [
       "         Date       Close    Volume  Label  Variance\n",
       "0  2023-09-08  143.886154  46927009      0  3.195389\n",
       "1  2023-09-09  143.406815  35896666      0  1.677582\n",
       "2  2023-09-10  142.894440  33705148      0  1.965088\n",
       "3  2023-09-11  139.930466  58031716      1  5.441772\n",
       "4  2023-09-12  140.804672  57433672      1  3.567017\n",
       "5  2023-09-13  143.115967  54374646      1  4.085739\n",
       "6  2023-09-14  146.329483  44084896      1  4.750565\n",
       "7  2023-09-15  147.350723  57280169      0  2.792572\n",
       "8  2023-09-16  144.624649  34872985      1  3.754654\n",
       "9  2023-09-17  145.797852  31255846      0  2.700851\n",
       "10 2023-09-18  145.769226  45155110      1  2.926178\n",
       "11 2023-09-19  147.695923  39757092      1  2.826614\n",
       "12 2023-09-20  148.116745  46811934      0  2.409698\n",
       "13 2023-09-21  145.199112  42424759      0  3.070587\n",
       "14 2023-09-22  145.055939  38471061      0  2.239777\n",
       "15 2023-09-23  141.797470  33917253      1  3.824707\n",
       "16 2023-09-24  143.733932  32559994      1  2.726685\n",
       "17 2023-09-25  144.453964  42685360      1  2.283798\n",
       "18 2023-09-26  144.818741  41884784      1  1.966599\n",
       "19 2023-09-27  146.434097  46912869      0  2.339920\n",
       "20 2023-09-28  146.061279  44650519      1  2.036285\n",
       "21 2023-09-29  146.837479  36492709      0  1.901733\n",
       "22 2023-09-30  146.554260  40874840      1  2.760117\n",
       "23 2023-10-01  149.161407  68116546      0  3.901871\n",
       "24 2023-10-02  146.203430  62225244      1  4.495163\n",
       "25 2023-10-03  147.151352  49389643      1  2.639694\n",
       "26 2023-10-04  150.469055  59400400      0  4.761566\n",
       "27 2023-10-05  149.623718  55704972      1  2.762878\n",
       "28 2023-10-06  151.992264  49535004      1  4.027649\n",
       "29 2023-10-07  155.212143  61159796      1  4.146545"
      ]
     },
     "execution_count": 15,
     "metadata": {},
     "output_type": "execute_result"
    }
   ],
   "source": [
    "start_date_train_val = \"2017-11-09\"\n",
    "end_date_train_val = \"2023-09-07\"\n",
    "\n",
    "start_date_test = \"2023-09-08\"\n",
    "end_date_test = \"2023-10-07\"\n",
    "\n",
    "df_train_val, df_test = train_test_split_by_date(\n",
    "    df,\n",
    "    start_date_train_val,\n",
    "    end_date_train_val,\n",
    "    start_date_test,\n",
    "    end_date_test,\n",
    "    divide_X_y=False,\n",
    ")\n",
    "df_test"
   ]
  },
  {
   "cell_type": "markdown",
   "metadata": {},
   "source": [
    "# Plots\n"
   ]
  },
  {
   "cell_type": "markdown",
   "metadata": {},
   "source": [
    "### Stock Chart Plot\n"
   ]
  },
  {
   "cell_type": "code",
   "execution_count": 16,
   "metadata": {},
   "outputs": [
    {
     "data": {
      "image/png": "[encoded data removed]",
      "text/plain": [
       "<Figure size 1000x500 with 1 Axes>"
      ]
     },
     "metadata": {},
     "output_type": "display_data"
    }
   ],
   "source": [
    "plt.figure(figsize=(10, 5))\n",
    "plt.plot(df_xmr[\"Close\"])\n",
    "plt.title(f\"{xmr} Stock Chart\")\n",
    "plt.xlabel(\"Date\")\n",
    "plt.ylabel(\"Price\")\n",
    "plt.show()"
   ]
  },
  {
   "cell_type": "code",
   "execution_count": 17,
   "metadata": {},
   "outputs": [
    {
     "data": {
      "text/html": [
       "<div>\n",
       "<style scoped>\n",
       "    .dataframe tbody tr th:only-of-type {\n",
       "        vertical-align: middle;\n",
       "    }\n",
       "\n",
       "    .dataframe tbody tr th {\n",
       "        vertical-align: top;\n",
       "    }\n",
       "\n",
       "    .dataframe thead th {\n",
       "        text-align: right;\n",
       "    }\n",
       "</style>\n",
       "<table border=\"1\" class=\"dataframe\">\n",
       "  <thead>\n",
       "    <tr style=\"text-align: right;\">\n",
       "      <th></th>\n",
       "      <th>Open</th>\n",
       "      <th>High</th>\n",
       "      <th>Low</th>\n",
       "      <th>Close</th>\n",
       "      <th>Adj Close</th>\n",
       "      <th>Volume</th>\n",
       "      <th>Close_difference</th>\n",
       "    </tr>\n",
       "    <tr>\n",
       "      <th>Date</th>\n",
       "      <th></th>\n",
       "      <th></th>\n",
       "      <th></th>\n",
       "      <th></th>\n",
       "      <th></th>\n",
       "      <th></th>\n",
       "      <th></th>\n",
       "    </tr>\n",
       "  </thead>\n",
       "  <tbody>\n",
       "    <tr>\n",
       "      <th>2017-11-09</th>\n",
       "      <td>112.531998</td>\n",
       "      <td>123.404999</td>\n",
       "      <td>112.219002</td>\n",
       "      <td>120.779999</td>\n",
       "      <td>120.779999</td>\n",
       "      <td>86864600</td>\n",
       "      <td>-15.194000</td>\n",
       "    </tr>\n",
       "    <tr>\n",
       "      <th>2017-11-10</th>\n",
       "      <td>121.344002</td>\n",
       "      <td>121.665001</td>\n",
       "      <td>101.757004</td>\n",
       "      <td>105.585999</td>\n",
       "      <td>105.585999</td>\n",
       "      <td>84614000</td>\n",
       "      <td>14.029999</td>\n",
       "    </tr>\n",
       "    <tr>\n",
       "      <th>2017-11-11</th>\n",
       "      <td>105.750000</td>\n",
       "      <td>127.106003</td>\n",
       "      <td>103.877998</td>\n",
       "      <td>119.615997</td>\n",
       "      <td>119.615997</td>\n",
       "      <td>107708000</td>\n",
       "      <td>4.240005</td>\n",
       "    </tr>\n",
       "    <tr>\n",
       "      <th>2017-11-12</th>\n",
       "      <td>119.597000</td>\n",
       "      <td>133.675003</td>\n",
       "      <td>110.617996</td>\n",
       "      <td>123.856003</td>\n",
       "      <td>123.856003</td>\n",
       "      <td>144948000</td>\n",
       "      <td>-0.454002</td>\n",
       "    </tr>\n",
       "    <tr>\n",
       "      <th>2017-11-13</th>\n",
       "      <td>128.960007</td>\n",
       "      <td>136.528000</td>\n",
       "      <td>120.921997</td>\n",
       "      <td>123.402000</td>\n",
       "      <td>123.402000</td>\n",
       "      <td>116200000</td>\n",
       "      <td>-1.049004</td>\n",
       "    </tr>\n",
       "    <tr>\n",
       "      <th>...</th>\n",
       "      <td>...</td>\n",
       "      <td>...</td>\n",
       "      <td>...</td>\n",
       "      <td>...</td>\n",
       "      <td>...</td>\n",
       "      <td>...</td>\n",
       "      <td>...</td>\n",
       "    </tr>\n",
       "    <tr>\n",
       "      <th>2023-10-14</th>\n",
       "      <td>153.583801</td>\n",
       "      <td>154.282990</td>\n",
       "      <td>151.850967</td>\n",
       "      <td>152.833160</td>\n",
       "      <td>152.833160</td>\n",
       "      <td>33344438</td>\n",
       "      <td>-0.384171</td>\n",
       "    </tr>\n",
       "    <tr>\n",
       "      <th>2023-10-15</th>\n",
       "      <td>152.833466</td>\n",
       "      <td>153.465881</td>\n",
       "      <td>152.173126</td>\n",
       "      <td>152.448990</td>\n",
       "      <td>152.448990</td>\n",
       "      <td>31895675</td>\n",
       "      <td>0.095108</td>\n",
       "    </tr>\n",
       "    <tr>\n",
       "      <th>2023-10-16</th>\n",
       "      <td>152.437531</td>\n",
       "      <td>153.522949</td>\n",
       "      <td>151.155411</td>\n",
       "      <td>152.544098</td>\n",
       "      <td>152.544098</td>\n",
       "      <td>64382308</td>\n",
       "      <td>-2.021149</td>\n",
       "    </tr>\n",
       "    <tr>\n",
       "      <th>2023-10-17</th>\n",
       "      <td>152.532791</td>\n",
       "      <td>152.532791</td>\n",
       "      <td>149.571411</td>\n",
       "      <td>150.522949</td>\n",
       "      <td>150.522949</td>\n",
       "      <td>59794609</td>\n",
       "      <td>0.909271</td>\n",
       "    </tr>\n",
       "    <tr>\n",
       "      <th>2023-10-18</th>\n",
       "      <td>150.552429</td>\n",
       "      <td>152.444458</td>\n",
       "      <td>150.155716</td>\n",
       "      <td>151.432220</td>\n",
       "      <td>151.432220</td>\n",
       "      <td>59932684</td>\n",
       "      <td>NaN</td>\n",
       "    </tr>\n",
       "  </tbody>\n",
       "</table>\n",
       "<p>2170 rows × 7 columns</p>\n",
       "</div>"
      ],
      "text/plain": [
       "                  Open        High         Low       Close   Adj Close  \\\n",
       "Date                                                                     \n",
       "2017-11-09  112.531998  123.404999  112.219002  120.779999  120.779999   \n",
       "2017-11-10  121.344002  121.665001  101.757004  105.585999  105.585999   \n",
       "2017-11-11  105.750000  127.106003  103.877998  119.615997  119.615997   \n",
       "2017-11-12  119.597000  133.675003  110.617996  123.856003  123.856003   \n",
       "2017-11-13  128.960007  136.528000  120.921997  123.402000  123.402000   \n",
       "...                ...         ...         ...         ...         ...   \n",
       "2023-10-14  153.583801  154.282990  151.850967  152.833160  152.833160   \n",
       "2023-10-15  152.833466  153.465881  152.173126  152.448990  152.448990   \n",
       "2023-10-16  152.437531  153.522949  151.155411  152.544098  152.544098   \n",
       "2023-10-17  152.532791  152.532791  149.571411  150.522949  150.522949   \n",
       "2023-10-18  150.552429  152.444458  150.155716  151.432220  151.432220   \n",
       "\n",
       "               Volume  Close_difference  \n",
       "Date                                     \n",
       "2017-11-09   86864600        -15.194000  \n",
       "2017-11-10   84614000         14.029999  \n",
       "2017-11-11  107708000          4.240005  \n",
       "2017-11-12  144948000         -0.454002  \n",
       "2017-11-13  116200000         -1.049004  \n",
       "...               ...               ...  \n",
       "2023-10-14   33344438         -0.384171  \n",
       "2023-10-15   31895675          0.095108  \n",
       "2023-10-16   64382308         -2.021149  \n",
       "2023-10-17   59794609          0.909271  \n",
       "2023-10-18   59932684               NaN  \n",
       "\n",
       "[2170 rows x 7 columns]"
      ]
     },
     "execution_count": 17,
     "metadata": {},
     "output_type": "execute_result"
    }
   ],
   "source": [
    "df_xmr"
   ]
  },
  {
   "cell_type": "markdown",
   "metadata": {},
   "source": [
    "### candlestick\n"
   ]
  },
  {
   "cell_type": "code",
   "execution_count": 18,
   "metadata": {},
   "outputs": [],
   "source": [
    "# ! pip install mplfinance"
   ]
  },
  {
   "cell_type": "code",
   "execution_count": 19,
   "metadata": {},
   "outputs": [
    {
     "data": {
      "image/png": "[encoded data removed]",
      "text/plain": [
       "<Figure size 800x575 with 2 Axes>"
      ]
     },
     "metadata": {},
     "output_type": "display_data"
    }
   ],
   "source": [
    "import mplfinance as mpf\n",
    "\n",
    "mpf.plot(\n",
    "    df_xmr.loc[:, :], type=\"candle\", style=\"yahoo\", title=f\"{xmr} Candlestick Chart\"\n",
    ")"
   ]
  },
  {
   "cell_type": "markdown",
   "metadata": {},
   "source": [
    "# Feature Engineering\n"
   ]
  },
  {
   "cell_type": "markdown",
   "metadata": {},
   "source": [
    "### Check Missing Values\n"
   ]
  },
  {
   "cell_type": "code",
   "execution_count": 20,
   "metadata": {},
   "outputs": [
    {
     "data": {
      "text/plain": [
       "Date        0\n",
       "Close       0\n",
       "Volume      0\n",
       "Label       0\n",
       "Variance    0\n",
       "dtype: int64"
      ]
     },
     "execution_count": 20,
     "metadata": {},
     "output_type": "execute_result"
    }
   ],
   "source": [
    "df_train_val.isna().sum()"
   ]
  },
  {
   "cell_type": "markdown",
   "metadata": {},
   "source": [
    "### Outlier\n"
   ]
  },
  {
   "cell_type": "markdown",
   "metadata": {},
   "source": [
    "##### drop ountliers, Z-Score method\n"
   ]
  },
  {
   "cell_type": "code",
   "execution_count": 21,
   "metadata": {},
   "outputs": [],
   "source": [
    "def drop_outliers_zScore(data, threshold=3):\n",
    "    z_scores = (data.iloc[:, :-1] - data.iloc[:, :-1].mean()) / data.iloc[:, :-1].std()\n",
    "    print((np.abs(z_scores) < threshold).all(axis=1).sum())\n",
    "    filtered_data = data[(np.abs(z_scores) < threshold).all(axis=1)]\n",
    "    return filtered_data"
   ]
  },
  {
   "cell_type": "code",
   "execution_count": 22,
   "metadata": {},
   "outputs": [
    {
     "name": "stdout",
     "output_type": "stream",
     "text": [
      "2095\n",
      "2125\n"
     ]
    },
    {
     "data": {
      "text/html": [
       "<div>\n",
       "<style scoped>\n",
       "    .dataframe tbody tr th:only-of-type {\n",
       "        vertical-align: middle;\n",
       "    }\n",
       "\n",
       "    .dataframe tbody tr th {\n",
       "        vertical-align: top;\n",
       "    }\n",
       "\n",
       "    .dataframe thead th {\n",
       "        text-align: right;\n",
       "    }\n",
       "</style>\n",
       "<table border=\"1\" class=\"dataframe\">\n",
       "  <thead>\n",
       "    <tr style=\"text-align: right;\">\n",
       "      <th></th>\n",
       "      <th>Date</th>\n",
       "      <th>Close</th>\n",
       "      <th>Volume</th>\n",
       "      <th>Label</th>\n",
       "      <th>Variance</th>\n",
       "    </tr>\n",
       "  </thead>\n",
       "  <tbody>\n",
       "    <tr>\n",
       "      <th>0</th>\n",
       "      <td>2017-11-09</td>\n",
       "      <td>120.779999</td>\n",
       "      <td>86864600</td>\n",
       "      <td>0</td>\n",
       "      <td>11.185997</td>\n",
       "    </tr>\n",
       "    <tr>\n",
       "      <th>1</th>\n",
       "      <td>2017-11-10</td>\n",
       "      <td>105.585999</td>\n",
       "      <td>84614000</td>\n",
       "      <td>1</td>\n",
       "      <td>19.907997</td>\n",
       "    </tr>\n",
       "    <tr>\n",
       "      <th>2</th>\n",
       "      <td>2017-11-11</td>\n",
       "      <td>119.615997</td>\n",
       "      <td>107708000</td>\n",
       "      <td>1</td>\n",
       "      <td>23.228004</td>\n",
       "    </tr>\n",
       "    <tr>\n",
       "      <th>3</th>\n",
       "      <td>2017-11-12</td>\n",
       "      <td>123.856003</td>\n",
       "      <td>144948000</td>\n",
       "      <td>0</td>\n",
       "      <td>23.057007</td>\n",
       "    </tr>\n",
       "    <tr>\n",
       "      <th>4</th>\n",
       "      <td>2017-11-13</td>\n",
       "      <td>123.402000</td>\n",
       "      <td>116200000</td>\n",
       "      <td>0</td>\n",
       "      <td>15.606003</td>\n",
       "    </tr>\n",
       "    <tr>\n",
       "      <th>...</th>\n",
       "      <td>...</td>\n",
       "      <td>...</td>\n",
       "      <td>...</td>\n",
       "      <td>...</td>\n",
       "      <td>...</td>\n",
       "    </tr>\n",
       "    <tr>\n",
       "      <th>2124</th>\n",
       "      <td>2023-09-03</td>\n",
       "      <td>140.839981</td>\n",
       "      <td>49564266</td>\n",
       "      <td>1</td>\n",
       "      <td>2.094498</td>\n",
       "    </tr>\n",
       "    <tr>\n",
       "      <th>2125</th>\n",
       "      <td>2023-09-04</td>\n",
       "      <td>141.170868</td>\n",
       "      <td>63835398</td>\n",
       "      <td>0</td>\n",
       "      <td>2.993912</td>\n",
       "    </tr>\n",
       "    <tr>\n",
       "      <th>2126</th>\n",
       "      <td>2023-09-05</td>\n",
       "      <td>137.781372</td>\n",
       "      <td>54468002</td>\n",
       "      <td>1</td>\n",
       "      <td>3.625900</td>\n",
       "    </tr>\n",
       "    <tr>\n",
       "      <th>2127</th>\n",
       "      <td>2023-09-06</td>\n",
       "      <td>142.113235</td>\n",
       "      <td>67734044</td>\n",
       "      <td>1</td>\n",
       "      <td>5.009445</td>\n",
       "    </tr>\n",
       "    <tr>\n",
       "      <th>2128</th>\n",
       "      <td>2023-09-07</td>\n",
       "      <td>143.250748</td>\n",
       "      <td>62422431</td>\n",
       "      <td>1</td>\n",
       "      <td>2.107025</td>\n",
       "    </tr>\n",
       "  </tbody>\n",
       "</table>\n",
       "<p>2095 rows × 5 columns</p>\n",
       "</div>"
      ],
      "text/plain": [
       "           Date       Close     Volume  Label   Variance\n",
       "0    2017-11-09  120.779999   86864600      0  11.185997\n",
       "1    2017-11-10  105.585999   84614000      1  19.907997\n",
       "2    2017-11-11  119.615997  107708000      1  23.228004\n",
       "3    2017-11-12  123.856003  144948000      0  23.057007\n",
       "4    2017-11-13  123.402000  116200000      0  15.606003\n",
       "...         ...         ...        ...    ...        ...\n",
       "2124 2023-09-03  140.839981   49564266      1   2.094498\n",
       "2125 2023-09-04  141.170868   63835398      0   2.993912\n",
       "2126 2023-09-05  137.781372   54468002      1   3.625900\n",
       "2127 2023-09-06  142.113235   67734044      1   5.009445\n",
       "2128 2023-09-07  143.250748   62422431      1   2.107025\n",
       "\n",
       "[2095 rows x 5 columns]"
      ]
     },
     "execution_count": 22,
     "metadata": {},
     "output_type": "execute_result"
    }
   ],
   "source": [
    "df_train_val_no_outliers_zScore = drop_outliers_zScore(df_train_val)\n",
    "df_train_test_no_outliers_zScore = drop_outliers_zScore(df_train_test)\n",
    "df_train_val_no_outliers_zScore"
   ]
  },
  {
   "cell_type": "markdown",
   "metadata": {},
   "source": [
    "##### drop outliers with LocalOutlierFactor\n"
   ]
  },
  {
   "cell_type": "code",
   "execution_count": 23,
   "metadata": {},
   "outputs": [],
   "source": [
    "from sklearn.neighbors import LocalOutlierFactor\n",
    "\n",
    "\n",
    "def drop_outliers_LOF(df: pd.DataFrame):\n",
    "    data = df.copy().drop(\"Date\", axis=1)\n",
    "    clf = LocalOutlierFactor(n_neighbors=10, contamination=0.03)  # 0.03, 0.05\n",
    "\n",
    "    # Fit the data to the model\n",
    "    y_pred = clf.fit_predict(data.copy().iloc[:, :-1])\n",
    "\n",
    "    # Identify the outliers\n",
    "    outliers = np.where(y_pred == -1)\n",
    "\n",
    "    return df.drop(outliers[0])"
   ]
  },
  {
   "cell_type": "code",
   "execution_count": 24,
   "metadata": {},
   "outputs": [],
   "source": [
    "# df_train_val.reset_index(drop=False)"
   ]
  },
  {
   "cell_type": "code",
   "execution_count": 25,
   "metadata": {},
   "outputs": [
    {
     "data": {
      "text/html": [
       "<div>\n",
       "<style scoped>\n",
       "    .dataframe tbody tr th:only-of-type {\n",
       "        vertical-align: middle;\n",
       "    }\n",
       "\n",
       "    .dataframe tbody tr th {\n",
       "        vertical-align: top;\n",
       "    }\n",
       "\n",
       "    .dataframe thead th {\n",
       "        text-align: right;\n",
       "    }\n",
       "</style>\n",
       "<table border=\"1\" class=\"dataframe\">\n",
       "  <thead>\n",
       "    <tr style=\"text-align: right;\">\n",
       "      <th></th>\n",
       "      <th>Date</th>\n",
       "      <th>Close</th>\n",
       "      <th>Volume</th>\n",
       "      <th>Label</th>\n",
       "      <th>Variance</th>\n",
       "    </tr>\n",
       "  </thead>\n",
       "  <tbody>\n",
       "    <tr>\n",
       "      <th>0</th>\n",
       "      <td>2017-11-09</td>\n",
       "      <td>120.779999</td>\n",
       "      <td>86864600</td>\n",
       "      <td>0</td>\n",
       "      <td>11.185997</td>\n",
       "    </tr>\n",
       "    <tr>\n",
       "      <th>1</th>\n",
       "      <td>2017-11-10</td>\n",
       "      <td>105.585999</td>\n",
       "      <td>84614000</td>\n",
       "      <td>1</td>\n",
       "      <td>19.907997</td>\n",
       "    </tr>\n",
       "    <tr>\n",
       "      <th>2</th>\n",
       "      <td>2017-11-11</td>\n",
       "      <td>119.615997</td>\n",
       "      <td>107708000</td>\n",
       "      <td>1</td>\n",
       "      <td>23.228004</td>\n",
       "    </tr>\n",
       "    <tr>\n",
       "      <th>3</th>\n",
       "      <td>2017-11-12</td>\n",
       "      <td>123.856003</td>\n",
       "      <td>144948000</td>\n",
       "      <td>0</td>\n",
       "      <td>23.057007</td>\n",
       "    </tr>\n",
       "    <tr>\n",
       "      <th>4</th>\n",
       "      <td>2017-11-13</td>\n",
       "      <td>123.402000</td>\n",
       "      <td>116200000</td>\n",
       "      <td>0</td>\n",
       "      <td>15.606003</td>\n",
       "    </tr>\n",
       "    <tr>\n",
       "      <th>...</th>\n",
       "      <td>...</td>\n",
       "      <td>...</td>\n",
       "      <td>...</td>\n",
       "      <td>...</td>\n",
       "      <td>...</td>\n",
       "    </tr>\n",
       "    <tr>\n",
       "      <th>2124</th>\n",
       "      <td>2023-09-03</td>\n",
       "      <td>140.839981</td>\n",
       "      <td>49564266</td>\n",
       "      <td>1</td>\n",
       "      <td>2.094498</td>\n",
       "    </tr>\n",
       "    <tr>\n",
       "      <th>2125</th>\n",
       "      <td>2023-09-04</td>\n",
       "      <td>141.170868</td>\n",
       "      <td>63835398</td>\n",
       "      <td>0</td>\n",
       "      <td>2.993912</td>\n",
       "    </tr>\n",
       "    <tr>\n",
       "      <th>2126</th>\n",
       "      <td>2023-09-05</td>\n",
       "      <td>137.781372</td>\n",
       "      <td>54468002</td>\n",
       "      <td>1</td>\n",
       "      <td>3.625900</td>\n",
       "    </tr>\n",
       "    <tr>\n",
       "      <th>2127</th>\n",
       "      <td>2023-09-06</td>\n",
       "      <td>142.113235</td>\n",
       "      <td>67734044</td>\n",
       "      <td>1</td>\n",
       "      <td>5.009445</td>\n",
       "    </tr>\n",
       "    <tr>\n",
       "      <th>2128</th>\n",
       "      <td>2023-09-07</td>\n",
       "      <td>143.250748</td>\n",
       "      <td>62422431</td>\n",
       "      <td>1</td>\n",
       "      <td>2.107025</td>\n",
       "    </tr>\n",
       "  </tbody>\n",
       "</table>\n",
       "<p>2065 rows × 5 columns</p>\n",
       "</div>"
      ],
      "text/plain": [
       "           Date       Close     Volume  Label   Variance\n",
       "0    2017-11-09  120.779999   86864600      0  11.185997\n",
       "1    2017-11-10  105.585999   84614000      1  19.907997\n",
       "2    2017-11-11  119.615997  107708000      1  23.228004\n",
       "3    2017-11-12  123.856003  144948000      0  23.057007\n",
       "4    2017-11-13  123.402000  116200000      0  15.606003\n",
       "...         ...         ...        ...    ...        ...\n",
       "2124 2023-09-03  140.839981   49564266      1   2.094498\n",
       "2125 2023-09-04  141.170868   63835398      0   2.993912\n",
       "2126 2023-09-05  137.781372   54468002      1   3.625900\n",
       "2127 2023-09-06  142.113235   67734044      1   5.009445\n",
       "2128 2023-09-07  143.250748   62422431      1   2.107025\n",
       "\n",
       "[2065 rows x 5 columns]"
      ]
     },
     "execution_count": 25,
     "metadata": {},
     "output_type": "execute_result"
    }
   ],
   "source": [
    "df_train_val_no_outliers_lof = drop_outliers_LOF(df_train_val)\n",
    "df_train_test_no_outliers_lof = drop_outliers_LOF(df_train_test)\n",
    "df_train_val_no_outliers_lof"
   ]
  },
  {
   "cell_type": "markdown",
   "metadata": {},
   "source": [
    "##### choose one filtered dataframe\n"
   ]
  },
  {
   "cell_type": "markdown",
   "metadata": {},
   "source": [
    "##### چون داده هامون سری زمانی هستن داده پرت پیدا کردن معنی نداره فکرکنم\n"
   ]
  },
  {
   "cell_type": "markdown",
   "metadata": {},
   "source": [
    "### Split Data into Train and Validation\n"
   ]
  },
  {
   "cell_type": "code",
   "execution_count": 26,
   "metadata": {},
   "outputs": [],
   "source": [
    "start_date_train = \"2017-11-09\"\n",
    "end_date_train = \"2023-06-07\"\n",
    "\n",
    "start_date_val = \"2023-06-08\"\n",
    "end_date_val = \"2023-09-07\"\n",
    "\n",
    "X_train, X_validation, y_train, y_validation = train_test_split_by_date(\n",
    "    df_train_val,\n",
    "    start_date_train,\n",
    "    end_date_train,\n",
    "    start_date_val,\n",
    "    end_date_val,\n",
    "    divide_X_y=True,\n",
    ")"
   ]
  },
  {
   "cell_type": "code",
   "execution_count": 27,
   "metadata": {},
   "outputs": [
    {
     "data": {
      "text/html": [
       "<div>\n",
       "<style scoped>\n",
       "    .dataframe tbody tr th:only-of-type {\n",
       "        vertical-align: middle;\n",
       "    }\n",
       "\n",
       "    .dataframe tbody tr th {\n",
       "        vertical-align: top;\n",
       "    }\n",
       "\n",
       "    .dataframe thead th {\n",
       "        text-align: right;\n",
       "    }\n",
       "</style>\n",
       "<table border=\"1\" class=\"dataframe\">\n",
       "  <thead>\n",
       "    <tr style=\"text-align: right;\">\n",
       "      <th></th>\n",
       "      <th>Date</th>\n",
       "      <th>Close</th>\n",
       "      <th>Volume</th>\n",
       "      <th>Variance</th>\n",
       "    </tr>\n",
       "  </thead>\n",
       "  <tbody>\n",
       "    <tr>\n",
       "      <th>0</th>\n",
       "      <td>2017-11-09</td>\n",
       "      <td>120.779999</td>\n",
       "      <td>86864600</td>\n",
       "      <td>11.185997</td>\n",
       "    </tr>\n",
       "    <tr>\n",
       "      <th>1</th>\n",
       "      <td>2017-11-10</td>\n",
       "      <td>105.585999</td>\n",
       "      <td>84614000</td>\n",
       "      <td>19.907997</td>\n",
       "    </tr>\n",
       "    <tr>\n",
       "      <th>2</th>\n",
       "      <td>2017-11-11</td>\n",
       "      <td>119.615997</td>\n",
       "      <td>107708000</td>\n",
       "      <td>23.228004</td>\n",
       "    </tr>\n",
       "    <tr>\n",
       "      <th>3</th>\n",
       "      <td>2017-11-12</td>\n",
       "      <td>123.856003</td>\n",
       "      <td>144948000</td>\n",
       "      <td>23.057007</td>\n",
       "    </tr>\n",
       "    <tr>\n",
       "      <th>4</th>\n",
       "      <td>2017-11-13</td>\n",
       "      <td>123.402000</td>\n",
       "      <td>116200000</td>\n",
       "      <td>15.606003</td>\n",
       "    </tr>\n",
       "  </tbody>\n",
       "</table>\n",
       "</div>"
      ],
      "text/plain": [
       "        Date       Close     Volume   Variance\n",
       "0 2017-11-09  120.779999   86864600  11.185997\n",
       "1 2017-11-10  105.585999   84614000  19.907997\n",
       "2 2017-11-11  119.615997  107708000  23.228004\n",
       "3 2017-11-12  123.856003  144948000  23.057007\n",
       "4 2017-11-13  123.402000  116200000  15.606003"
      ]
     },
     "execution_count": 27,
     "metadata": {},
     "output_type": "execute_result"
    }
   ],
   "source": [
    "X_train.head()"
   ]
  },
  {
   "cell_type": "code",
   "execution_count": 28,
   "metadata": {},
   "outputs": [
    {
     "data": {
      "text/html": [
       "<div>\n",
       "<style scoped>\n",
       "    .dataframe tbody tr th:only-of-type {\n",
       "        vertical-align: middle;\n",
       "    }\n",
       "\n",
       "    .dataframe tbody tr th {\n",
       "        vertical-align: top;\n",
       "    }\n",
       "\n",
       "    .dataframe thead th {\n",
       "        text-align: right;\n",
       "    }\n",
       "</style>\n",
       "<table border=\"1\" class=\"dataframe\">\n",
       "  <thead>\n",
       "    <tr style=\"text-align: right;\">\n",
       "      <th></th>\n",
       "      <th>Date</th>\n",
       "      <th>Close</th>\n",
       "      <th>Volume</th>\n",
       "      <th>Variance</th>\n",
       "    </tr>\n",
       "  </thead>\n",
       "  <tbody>\n",
       "    <tr>\n",
       "      <th>0</th>\n",
       "      <td>2023-06-08</td>\n",
       "      <td>142.660126</td>\n",
       "      <td>56664638</td>\n",
       "      <td>3.377151</td>\n",
       "    </tr>\n",
       "    <tr>\n",
       "      <th>1</th>\n",
       "      <td>2023-06-09</td>\n",
       "      <td>143.050003</td>\n",
       "      <td>52539231</td>\n",
       "      <td>2.429214</td>\n",
       "    </tr>\n",
       "    <tr>\n",
       "      <th>2</th>\n",
       "      <td>2023-06-10</td>\n",
       "      <td>137.812439</td>\n",
       "      <td>92419685</td>\n",
       "      <td>15.922714</td>\n",
       "    </tr>\n",
       "    <tr>\n",
       "      <th>3</th>\n",
       "      <td>2023-06-11</td>\n",
       "      <td>138.158829</td>\n",
       "      <td>39307804</td>\n",
       "      <td>3.207825</td>\n",
       "    </tr>\n",
       "    <tr>\n",
       "      <th>4</th>\n",
       "      <td>2023-06-12</td>\n",
       "      <td>140.197021</td>\n",
       "      <td>77701627</td>\n",
       "      <td>4.929169</td>\n",
       "    </tr>\n",
       "  </tbody>\n",
       "</table>\n",
       "</div>"
      ],
      "text/plain": [
       "        Date       Close    Volume   Variance\n",
       "0 2023-06-08  142.660126  56664638   3.377151\n",
       "1 2023-06-09  143.050003  52539231   2.429214\n",
       "2 2023-06-10  137.812439  92419685  15.922714\n",
       "3 2023-06-11  138.158829  39307804   3.207825\n",
       "4 2023-06-12  140.197021  77701627   4.929169"
      ]
     },
     "execution_count": 28,
     "metadata": {},
     "output_type": "execute_result"
    }
   ],
   "source": [
    "X_validation.head()"
   ]
  },
  {
   "cell_type": "code",
   "execution_count": 29,
   "metadata": {},
   "outputs": [
    {
     "data": {
      "text/html": [
       "<div>\n",
       "<style scoped>\n",
       "    .dataframe tbody tr th:only-of-type {\n",
       "        vertical-align: middle;\n",
       "    }\n",
       "\n",
       "    .dataframe tbody tr th {\n",
       "        vertical-align: top;\n",
       "    }\n",
       "\n",
       "    .dataframe thead th {\n",
       "        text-align: right;\n",
       "    }\n",
       "</style>\n",
       "<table border=\"1\" class=\"dataframe\">\n",
       "  <thead>\n",
       "    <tr style=\"text-align: right;\">\n",
       "      <th></th>\n",
       "      <th>Date</th>\n",
       "      <th>Close</th>\n",
       "      <th>Volume</th>\n",
       "      <th>Variance</th>\n",
       "    </tr>\n",
       "  </thead>\n",
       "  <tbody>\n",
       "    <tr>\n",
       "      <th>count</th>\n",
       "      <td>2037</td>\n",
       "      <td>2037.000000</td>\n",
       "      <td>2.037000e+03</td>\n",
       "      <td>2037.000000</td>\n",
       "    </tr>\n",
       "    <tr>\n",
       "      <th>mean</th>\n",
       "      <td>2020-08-23 00:00:00.000000256</td>\n",
       "      <td>149.895335</td>\n",
       "      <td>2.542309e+08</td>\n",
       "      <td>11.652186</td>\n",
       "    </tr>\n",
       "    <tr>\n",
       "      <th>min</th>\n",
       "      <td>2017-11-09 00:00:00</td>\n",
       "      <td>33.010323</td>\n",
       "      <td>1.016030e+07</td>\n",
       "      <td>0.610867</td>\n",
       "    </tr>\n",
       "    <tr>\n",
       "      <th>25%</th>\n",
       "      <td>2019-04-02 00:00:00</td>\n",
       "      <td>79.704430</td>\n",
       "      <td>6.595855e+07</td>\n",
       "      <td>3.583393</td>\n",
       "    </tr>\n",
       "    <tr>\n",
       "      <th>50%</th>\n",
       "      <td>2020-08-23 00:00:00</td>\n",
       "      <td>142.323288</td>\n",
       "      <td>1.066830e+08</td>\n",
       "      <td>7.223503</td>\n",
       "    </tr>\n",
       "    <tr>\n",
       "      <th>75%</th>\n",
       "      <td>2022-01-14 00:00:00</td>\n",
       "      <td>198.738998</td>\n",
       "      <td>1.967663e+08</td>\n",
       "      <td>13.692032</td>\n",
       "    </tr>\n",
       "    <tr>\n",
       "      <th>max</th>\n",
       "      <td>2023-06-07 00:00:00</td>\n",
       "      <td>483.583618</td>\n",
       "      <td>2.895912e+10</td>\n",
       "      <td>191.717880</td>\n",
       "    </tr>\n",
       "    <tr>\n",
       "      <th>std</th>\n",
       "      <td>NaN</td>\n",
       "      <td>83.999876</td>\n",
       "      <td>1.028817e+09</td>\n",
       "      <td>14.563935</td>\n",
       "    </tr>\n",
       "  </tbody>\n",
       "</table>\n",
       "</div>"
      ],
      "text/plain": [
       "                                Date        Close        Volume     Variance\n",
       "count                           2037  2037.000000  2.037000e+03  2037.000000\n",
       "mean   2020-08-23 00:00:00.000000256   149.895335  2.542309e+08    11.652186\n",
       "min              2017-11-09 00:00:00    33.010323  1.016030e+07     0.610867\n",
       "25%              2019-04-02 00:00:00    79.704430  6.595855e+07     3.583393\n",
       "50%              2020-08-23 00:00:00   142.323288  1.066830e+08     7.223503\n",
       "75%              2022-01-14 00:00:00   198.738998  1.967663e+08    13.692032\n",
       "max              2023-06-07 00:00:00   483.583618  2.895912e+10   191.717880\n",
       "std                              NaN    83.999876  1.028817e+09    14.563935"
      ]
     },
     "execution_count": 29,
     "metadata": {},
     "output_type": "execute_result"
    }
   ],
   "source": [
    "X_train.describe()"
   ]
  },
  {
   "cell_type": "markdown",
   "metadata": {},
   "source": [
    "### Plot Distributions\n"
   ]
  },
  {
   "cell_type": "code",
   "execution_count": 30,
   "metadata": {},
   "outputs": [
    {
     "data": {
      "image/png": "[encoded data removed]",
      "text/plain": [
       "<Figure size 2000x1200 with 4 Axes>"
      ]
     },
     "metadata": {},
     "output_type": "display_data"
    }
   ],
   "source": [
    "X_train.hist(figsize=[20, 12])\n",
    "plt.show()"
   ]
  },
  {
   "cell_type": "markdown",
   "metadata": {},
   "source": [
    "### Normalizing\n"
   ]
  },
  {
   "cell_type": "markdown",
   "metadata": {},
   "source": [
    "##### method 1 : Standard Scaler\n"
   ]
  },
  {
   "cell_type": "code",
   "execution_count": 31,
   "metadata": {},
   "outputs": [],
   "source": [
    "X_train_normalized_ss = X_train.copy()\n",
    "X_validation_normalized_ss = X_validation.copy()\n",
    "\n",
    "scaler_ss = StandardScaler()\n",
    "cols = X_train.drop(columns=[\"Date\"]).columns\n",
    "X_train_normalized_ss[cols] = scaler_ss.fit_transform(X_train_normalized_ss[cols])\n",
    "X_validation_normalized_ss[cols] = scaler_ss.transform(X_validation_normalized_ss[cols])"
   ]
  },
  {
   "cell_type": "code",
   "execution_count": 32,
   "metadata": {},
   "outputs": [
    {
     "data": {
      "text/html": [
       "<div>\n",
       "<style scoped>\n",
       "    .dataframe tbody tr th:only-of-type {\n",
       "        vertical-align: middle;\n",
       "    }\n",
       "\n",
       "    .dataframe tbody tr th {\n",
       "        vertical-align: top;\n",
       "    }\n",
       "\n",
       "    .dataframe thead th {\n",
       "        text-align: right;\n",
       "    }\n",
       "</style>\n",
       "<table border=\"1\" class=\"dataframe\">\n",
       "  <thead>\n",
       "    <tr style=\"text-align: right;\">\n",
       "      <th></th>\n",
       "      <th>Date</th>\n",
       "      <th>Close</th>\n",
       "      <th>Volume</th>\n",
       "      <th>Variance</th>\n",
       "    </tr>\n",
       "  </thead>\n",
       "  <tbody>\n",
       "    <tr>\n",
       "      <th>count</th>\n",
       "      <td>2037</td>\n",
       "      <td>2037.000000</td>\n",
       "      <td>2037.000000</td>\n",
       "      <td>2.037000e+03</td>\n",
       "    </tr>\n",
       "    <tr>\n",
       "      <th>mean</th>\n",
       "      <td>2020-08-23 00:00:00.000000256</td>\n",
       "      <td>0.000000</td>\n",
       "      <td>0.000000</td>\n",
       "      <td>-2.790546e-17</td>\n",
       "    </tr>\n",
       "    <tr>\n",
       "      <th>min</th>\n",
       "      <td>2017-11-09 00:00:00</td>\n",
       "      <td>-1.391832</td>\n",
       "      <td>-0.237293</td>\n",
       "      <td>-7.583136e-01</td>\n",
       "    </tr>\n",
       "    <tr>\n",
       "      <th>25%</th>\n",
       "      <td>2019-04-02 00:00:00</td>\n",
       "      <td>-0.835812</td>\n",
       "      <td>-0.183044</td>\n",
       "      <td>-5.541616e-01</td>\n",
       "    </tr>\n",
       "    <tr>\n",
       "      <th>50%</th>\n",
       "      <td>2020-08-23 00:00:00</td>\n",
       "      <td>-0.090166</td>\n",
       "      <td>-0.143450</td>\n",
       "      <td>-3.041603e-01</td>\n",
       "    </tr>\n",
       "    <tr>\n",
       "      <th>75%</th>\n",
       "      <td>2022-01-14 00:00:00</td>\n",
       "      <td>0.581616</td>\n",
       "      <td>-0.055869</td>\n",
       "      <td>1.400959e-01</td>\n",
       "    </tr>\n",
       "    <tr>\n",
       "      <th>max</th>\n",
       "      <td>2023-06-07 00:00:00</td>\n",
       "      <td>3.973461</td>\n",
       "      <td>27.907736</td>\n",
       "      <td>1.236684e+01</td>\n",
       "    </tr>\n",
       "    <tr>\n",
       "      <th>std</th>\n",
       "      <td>NaN</td>\n",
       "      <td>1.000246</td>\n",
       "      <td>1.000246</td>\n",
       "      <td>1.000246e+00</td>\n",
       "    </tr>\n",
       "  </tbody>\n",
       "</table>\n",
       "</div>"
      ],
      "text/plain": [
       "                                Date        Close       Volume      Variance\n",
       "count                           2037  2037.000000  2037.000000  2.037000e+03\n",
       "mean   2020-08-23 00:00:00.000000256     0.000000     0.000000 -2.790546e-17\n",
       "min              2017-11-09 00:00:00    -1.391832    -0.237293 -7.583136e-01\n",
       "25%              2019-04-02 00:00:00    -0.835812    -0.183044 -5.541616e-01\n",
       "50%              2020-08-23 00:00:00    -0.090166    -0.143450 -3.041603e-01\n",
       "75%              2022-01-14 00:00:00     0.581616    -0.055869  1.400959e-01\n",
       "max              2023-06-07 00:00:00     3.973461    27.907736  1.236684e+01\n",
       "std                              NaN     1.000246     1.000246  1.000246e+00"
      ]
     },
     "execution_count": 32,
     "metadata": {},
     "output_type": "execute_result"
    }
   ],
   "source": [
    "X_train_normalized_ss.describe()"
   ]
  },
  {
   "cell_type": "code",
   "execution_count": 33,
   "metadata": {},
   "outputs": [
    {
     "data": {
      "image/png": "[encoded data removed]",
      "text/plain": [
       "<Figure size 2000x1200 with 4 Axes>"
      ]
     },
     "metadata": {},
     "output_type": "display_data"
    }
   ],
   "source": [
    "X_train_normalized_ss.hist(figsize=[20, 12])\n",
    "plt.show()"
   ]
  },
  {
   "cell_type": "markdown",
   "metadata": {},
   "source": [
    "##### method 2 : Power Transform\n"
   ]
  },
  {
   "cell_type": "code",
   "execution_count": 34,
   "metadata": {},
   "outputs": [],
   "source": [
    "X_train_transformed = X_train.copy()\n",
    "X_validation_transformed = X_validation.copy()\n",
    "\n",
    "power_transformer = PowerTransformer(method=\"yeo-johnson\", standardize=True)\n",
    "\n",
    "cols = X_train.drop(columns=[\"Date\"]).columns\n",
    "\n",
    "X_train_transformed[cols] = power_transformer.fit_transform(X_train_transformed[cols])\n",
    "X_validation_transformed[cols] = power_transformer.transform(\n",
    "    X_validation_transformed[cols]\n",
    ")"
   ]
  },
  {
   "cell_type": "code",
   "execution_count": 35,
   "metadata": {},
   "outputs": [
    {
     "data": {
      "text/html": [
       "<div>\n",
       "<style scoped>\n",
       "    .dataframe tbody tr th:only-of-type {\n",
       "        vertical-align: middle;\n",
       "    }\n",
       "\n",
       "    .dataframe tbody tr th {\n",
       "        vertical-align: top;\n",
       "    }\n",
       "\n",
       "    .dataframe thead th {\n",
       "        text-align: right;\n",
       "    }\n",
       "</style>\n",
       "<table border=\"1\" class=\"dataframe\">\n",
       "  <thead>\n",
       "    <tr style=\"text-align: right;\">\n",
       "      <th></th>\n",
       "      <th>Date</th>\n",
       "      <th>Close</th>\n",
       "      <th>Volume</th>\n",
       "      <th>Variance</th>\n",
       "    </tr>\n",
       "  </thead>\n",
       "  <tbody>\n",
       "    <tr>\n",
       "      <th>count</th>\n",
       "      <td>2037</td>\n",
       "      <td>2.037000e+03</td>\n",
       "      <td>2.037000e+03</td>\n",
       "      <td>2.037000e+03</td>\n",
       "    </tr>\n",
       "    <tr>\n",
       "      <th>mean</th>\n",
       "      <td>2020-08-23 00:00:00.000000256</td>\n",
       "      <td>-1.116218e-16</td>\n",
       "      <td>-1.088313e-14</td>\n",
       "      <td>3.069600e-16</td>\n",
       "    </tr>\n",
       "    <tr>\n",
       "      <th>min</th>\n",
       "      <td>2017-11-09 00:00:00</td>\n",
       "      <td>-2.211691e+00</td>\n",
       "      <td>-2.819797e+00</td>\n",
       "      <td>-2.491462e+00</td>\n",
       "    </tr>\n",
       "    <tr>\n",
       "      <th>25%</th>\n",
       "      <td>2019-04-02 00:00:00</td>\n",
       "      <td>-8.342388e-01</td>\n",
       "      <td>-5.256164e-01</td>\n",
       "      <td>-7.677758e-01</td>\n",
       "    </tr>\n",
       "    <tr>\n",
       "      <th>50%</th>\n",
       "      <td>2020-08-23 00:00:00</td>\n",
       "      <td>1.540727e-01</td>\n",
       "      <td>-3.308889e-02</td>\n",
       "      <td>2.600074e-02</td>\n",
       "    </tr>\n",
       "    <tr>\n",
       "      <th>75%</th>\n",
       "      <td>2022-01-14 00:00:00</td>\n",
       "      <td>7.534815e-01</td>\n",
       "      <td>5.444954e-01</td>\n",
       "      <td>7.129205e-01</td>\n",
       "    </tr>\n",
       "    <tr>\n",
       "      <th>max</th>\n",
       "      <td>2023-06-07 00:00:00</td>\n",
       "      <td>2.462102e+00</td>\n",
       "      <td>3.705187e+00</td>\n",
       "      <td>2.844513e+00</td>\n",
       "    </tr>\n",
       "    <tr>\n",
       "      <th>std</th>\n",
       "      <td>NaN</td>\n",
       "      <td>1.000246e+00</td>\n",
       "      <td>1.000246e+00</td>\n",
       "      <td>1.000246e+00</td>\n",
       "    </tr>\n",
       "  </tbody>\n",
       "</table>\n",
       "</div>"
      ],
      "text/plain": [
       "                                Date         Close        Volume      Variance\n",
       "count                           2037  2.037000e+03  2.037000e+03  2.037000e+03\n",
       "mean   2020-08-23 00:00:00.000000256 -1.116218e-16 -1.088313e-14  3.069600e-16\n",
       "min              2017-11-09 00:00:00 -2.211691e+00 -2.819797e+00 -2.491462e+00\n",
       "25%              2019-04-02 00:00:00 -8.342388e-01 -5.256164e-01 -7.677758e-01\n",
       "50%              2020-08-23 00:00:00  1.540727e-01 -3.308889e-02  2.600074e-02\n",
       "75%              2022-01-14 00:00:00  7.534815e-01  5.444954e-01  7.129205e-01\n",
       "max              2023-06-07 00:00:00  2.462102e+00  3.705187e+00  2.844513e+00\n",
       "std                              NaN  1.000246e+00  1.000246e+00  1.000246e+00"
      ]
     },
     "execution_count": 35,
     "metadata": {},
     "output_type": "execute_result"
    }
   ],
   "source": [
    "X_train_transformed.describe()"
   ]
  },
  {
   "cell_type": "code",
   "execution_count": 36,
   "metadata": {},
   "outputs": [
    {
     "data": {
      "image/png": "[encoded data removed]",
      "text/plain": [
       "<Figure size 2000x1200 with 4 Axes>"
      ]
     },
     "metadata": {},
     "output_type": "display_data"
    }
   ],
   "source": [
    "X_train_transformed.hist(figsize=[20, 12])\n",
    "plt.show()"
   ]
  },
  {
   "cell_type": "markdown",
   "metadata": {},
   "source": [
    "##### method 3 : Min Max Scaler\n"
   ]
  },
  {
   "cell_type": "code",
   "execution_count": 37,
   "metadata": {},
   "outputs": [],
   "source": [
    "X_train_normalized_ms = X_train.copy()\n",
    "X_validation_normalized_ms = X_validation.copy()\n",
    "\n",
    "scaler_min_max = StandardScaler()\n",
    "cols = X_train.drop(columns=[\"Date\"]).columns\n",
    "X_train_normalized_ms[cols] = scaler_min_max.fit_transform(X_train_normalized_ms[cols])\n",
    "X_validation_normalized_ms[cols] = scaler_min_max.transform(\n",
    "    X_validation_normalized_ms[cols]\n",
    ")"
   ]
  },
  {
   "cell_type": "code",
   "execution_count": 38,
   "metadata": {},
   "outputs": [
    {
     "data": {
      "text/html": [
       "<div>\n",
       "<style scoped>\n",
       "    .dataframe tbody tr th:only-of-type {\n",
       "        vertical-align: middle;\n",
       "    }\n",
       "\n",
       "    .dataframe tbody tr th {\n",
       "        vertical-align: top;\n",
       "    }\n",
       "\n",
       "    .dataframe thead th {\n",
       "        text-align: right;\n",
       "    }\n",
       "</style>\n",
       "<table border=\"1\" class=\"dataframe\">\n",
       "  <thead>\n",
       "    <tr style=\"text-align: right;\">\n",
       "      <th></th>\n",
       "      <th>Date</th>\n",
       "      <th>Close</th>\n",
       "      <th>Volume</th>\n",
       "      <th>Variance</th>\n",
       "    </tr>\n",
       "  </thead>\n",
       "  <tbody>\n",
       "    <tr>\n",
       "      <th>count</th>\n",
       "      <td>2037</td>\n",
       "      <td>2037.000000</td>\n",
       "      <td>2037.000000</td>\n",
       "      <td>2.037000e+03</td>\n",
       "    </tr>\n",
       "    <tr>\n",
       "      <th>mean</th>\n",
       "      <td>2020-08-23 00:00:00.000000256</td>\n",
       "      <td>0.000000</td>\n",
       "      <td>0.000000</td>\n",
       "      <td>-2.790546e-17</td>\n",
       "    </tr>\n",
       "    <tr>\n",
       "      <th>min</th>\n",
       "      <td>2017-11-09 00:00:00</td>\n",
       "      <td>-1.391832</td>\n",
       "      <td>-0.237293</td>\n",
       "      <td>-7.583136e-01</td>\n",
       "    </tr>\n",
       "    <tr>\n",
       "      <th>25%</th>\n",
       "      <td>2019-04-02 00:00:00</td>\n",
       "      <td>-0.835812</td>\n",
       "      <td>-0.183044</td>\n",
       "      <td>-5.541616e-01</td>\n",
       "    </tr>\n",
       "    <tr>\n",
       "      <th>50%</th>\n",
       "      <td>2020-08-23 00:00:00</td>\n",
       "      <td>-0.090166</td>\n",
       "      <td>-0.143450</td>\n",
       "      <td>-3.041603e-01</td>\n",
       "    </tr>\n",
       "    <tr>\n",
       "      <th>75%</th>\n",
       "      <td>2022-01-14 00:00:00</td>\n",
       "      <td>0.581616</td>\n",
       "      <td>-0.055869</td>\n",
       "      <td>1.400959e-01</td>\n",
       "    </tr>\n",
       "    <tr>\n",
       "      <th>max</th>\n",
       "      <td>2023-06-07 00:00:00</td>\n",
       "      <td>3.973461</td>\n",
       "      <td>27.907736</td>\n",
       "      <td>1.236684e+01</td>\n",
       "    </tr>\n",
       "    <tr>\n",
       "      <th>std</th>\n",
       "      <td>NaN</td>\n",
       "      <td>1.000246</td>\n",
       "      <td>1.000246</td>\n",
       "      <td>1.000246e+00</td>\n",
       "    </tr>\n",
       "  </tbody>\n",
       "</table>\n",
       "</div>"
      ],
      "text/plain": [
       "                                Date        Close       Volume      Variance\n",
       "count                           2037  2037.000000  2037.000000  2.037000e+03\n",
       "mean   2020-08-23 00:00:00.000000256     0.000000     0.000000 -2.790546e-17\n",
       "min              2017-11-09 00:00:00    -1.391832    -0.237293 -7.583136e-01\n",
       "25%              2019-04-02 00:00:00    -0.835812    -0.183044 -5.541616e-01\n",
       "50%              2020-08-23 00:00:00    -0.090166    -0.143450 -3.041603e-01\n",
       "75%              2022-01-14 00:00:00     0.581616    -0.055869  1.400959e-01\n",
       "max              2023-06-07 00:00:00     3.973461    27.907736  1.236684e+01\n",
       "std                              NaN     1.000246     1.000246  1.000246e+00"
      ]
     },
     "execution_count": 38,
     "metadata": {},
     "output_type": "execute_result"
    }
   ],
   "source": [
    "X_train_normalized_ms.describe()"
   ]
  },
  {
   "cell_type": "code",
   "execution_count": 39,
   "metadata": {},
   "outputs": [
    {
     "data": {
      "image/png": "[encoded data removed]",
      "text/plain": [
       "<Figure size 2000x1200 with 4 Axes>"
      ]
     },
     "metadata": {},
     "output_type": "display_data"
    }
   ],
   "source": [
    "X_train_normalized_ms.hist(figsize=[20, 12])\n",
    "plt.show()"
   ]
  },
  {
   "cell_type": "code",
   "execution_count": 40,
   "metadata": {},
   "outputs": [
    {
     "data": {
      "text/html": [
       "<div>\n",
       "<style scoped>\n",
       "    .dataframe tbody tr th:only-of-type {\n",
       "        vertical-align: middle;\n",
       "    }\n",
       "\n",
       "    .dataframe tbody tr th {\n",
       "        vertical-align: top;\n",
       "    }\n",
       "\n",
       "    .dataframe thead th {\n",
       "        text-align: right;\n",
       "    }\n",
       "</style>\n",
       "<table border=\"1\" class=\"dataframe\">\n",
       "  <thead>\n",
       "    <tr style=\"text-align: right;\">\n",
       "      <th></th>\n",
       "      <th>Date</th>\n",
       "      <th>Close</th>\n",
       "      <th>Volume</th>\n",
       "      <th>Label</th>\n",
       "      <th>Variance</th>\n",
       "    </tr>\n",
       "  </thead>\n",
       "  <tbody>\n",
       "    <tr>\n",
       "      <th>Date</th>\n",
       "      <td>1.000000</td>\n",
       "      <td>0.163580</td>\n",
       "      <td>0.029405</td>\n",
       "      <td>0.040528</td>\n",
       "      <td>-0.133914</td>\n",
       "    </tr>\n",
       "    <tr>\n",
       "      <th>Close</th>\n",
       "      <td>0.163580</td>\n",
       "      <td>1.000000</td>\n",
       "      <td>0.049219</td>\n",
       "      <td>-0.015416</td>\n",
       "      <td>0.671699</td>\n",
       "    </tr>\n",
       "    <tr>\n",
       "      <th>Volume</th>\n",
       "      <td>0.029405</td>\n",
       "      <td>0.049219</td>\n",
       "      <td>1.000000</td>\n",
       "      <td>0.012916</td>\n",
       "      <td>0.083045</td>\n",
       "    </tr>\n",
       "    <tr>\n",
       "      <th>Label</th>\n",
       "      <td>0.040528</td>\n",
       "      <td>-0.015416</td>\n",
       "      <td>0.012916</td>\n",
       "      <td>1.000000</td>\n",
       "      <td>-0.008214</td>\n",
       "    </tr>\n",
       "    <tr>\n",
       "      <th>Variance</th>\n",
       "      <td>-0.133914</td>\n",
       "      <td>0.671699</td>\n",
       "      <td>0.083045</td>\n",
       "      <td>-0.008214</td>\n",
       "      <td>1.000000</td>\n",
       "    </tr>\n",
       "  </tbody>\n",
       "</table>\n",
       "</div>"
      ],
      "text/plain": [
       "              Date     Close    Volume     Label  Variance\n",
       "Date      1.000000  0.163580  0.029405  0.040528 -0.133914\n",
       "Close     0.163580  1.000000  0.049219 -0.015416  0.671699\n",
       "Volume    0.029405  0.049219  1.000000  0.012916  0.083045\n",
       "Label     0.040528 -0.015416  0.012916  1.000000 -0.008214\n",
       "Variance -0.133914  0.671699  0.083045 -0.008214  1.000000"
      ]
     },
     "execution_count": 40,
     "metadata": {},
     "output_type": "execute_result"
    }
   ],
   "source": [
    "df_train_val.corr()"
   ]
  },
  {
   "cell_type": "markdown",
   "metadata": {},
   "source": [
    "# Train\n"
   ]
  },
  {
   "cell_type": "markdown",
   "metadata": {},
   "source": [
    "### Create Functions\n"
   ]
  },
  {
   "cell_type": "markdown",
   "metadata": {},
   "source": [
    "##### Normalization Function\n"
   ]
  },
  {
   "cell_type": "code",
   "execution_count": 41,
   "metadata": {},
   "outputs": [],
   "source": [
    "def normalization(X_train, X_test, method):\n",
    "    X_train_normalized = X_train.copy()\n",
    "    X_test_normalized = X_test.copy()\n",
    "\n",
    "    if method == \"StandardScaler\":\n",
    "        ss = StandardScaler()\n",
    "        X_train_normalized[X_train.columns] = ss.fit_transform(X_train[X_train.columns])\n",
    "        X_test_normalized[X_test.columns] = ss.transform(X_test[X_test.columns])\n",
    "\n",
    "    if method == \"MinMaxScaler\":\n",
    "        ms = MinMaxScaler()\n",
    "        X_train_normalized[X_train.columns] = ms.fit_transform(X_train[X_train.columns])\n",
    "        X_test_normalized[X_test.columns] = ms.transform(X_test[X_test.columns])\n",
    "\n",
    "    if method == \"PowerTransformer\":\n",
    "        pt = PowerTransformer()\n",
    "        X_train_normalized[X_train.columns] = pt.fit_transform(X_train[X_train.columns])\n",
    "        X_test_normalized[X_test.columns] = pt.transform(X_test[X_test.columns])\n",
    "\n",
    "    return X_train_normalized, X_test_normalized"
   ]
  },
  {
   "cell_type": "markdown",
   "metadata": {},
   "source": [
    "##### Evaluation Function\n"
   ]
  },
  {
   "cell_type": "code",
   "execution_count": 42,
   "metadata": {},
   "outputs": [],
   "source": [
    "def evaluation(y_true, y_pred, df_evaluation, df_confusion, model_name):\n",
    "    # Evaluate\n",
    "    accuracy = accuracy_score(y_true, y_pred)\n",
    "    precision = precision_score(y_true, y_pred)\n",
    "    recall = recall_score(y_true, y_pred)\n",
    "    f1 = f1_score(y_true, y_pred)\n",
    "    auc_score = roc_auc_score(y_true, y_pred)\n",
    "    mse = mean_squared_error(y_true, y_pred)\n",
    "    confusion = confusion_matrix(y_true, y_pred)\n",
    "\n",
    "    new_record_evaluation = {\n",
    "        \"Accuracy\": accuracy,\n",
    "        \"Precision\": precision,\n",
    "        \"Recall\": recall,\n",
    "        \"F1 Score\": f1,\n",
    "        \"AUC\": auc_score,\n",
    "        \"MSE\": mse,\n",
    "    }\n",
    "\n",
    "    df_evaluation.loc[model_name] = new_record_evaluation\n",
    "\n",
    "    # Confusion matrix\n",
    "\n",
    "    y_true = np.array(y_true)\n",
    "    y_pred = np.array(y_pred)\n",
    "\n",
    "    # tp = np.sum((y_true == 1) & (y_pred == 1))\n",
    "    # tn = np.sum((y_true == 0) & (y_pred == 0))\n",
    "    # fp = np.sum((y_true == 0) & (y_pred == 1))\n",
    "    # fn = np.sum((y_true == 1) & (y_pred == 0))\n",
    "\n",
    "    new_record_confusion = {\n",
    "        \"tp\": confusion[1, 1],\n",
    "        \"tn\": confusion[0, 0],\n",
    "        \"fp\": confusion[0, 1],\n",
    "        \"fn\": confusion[1, 0],\n",
    "    }\n",
    "\n",
    "    df_confusion.loc[model_name] = new_record_confusion\n",
    "\n",
    "    print(confusion)\n",
    "    print(new_record_evaluation)\n",
    "\n",
    "    return df_evaluation, df_confusion"
   ]
  },
  {
   "cell_type": "markdown",
   "metadata": {},
   "source": [
    "##### Model Function\n"
   ]
  },
  {
   "cell_type": "code",
   "execution_count": 43,
   "metadata": {},
   "outputs": [],
   "source": [
    "def model_predict(\n",
    "    df_train_val,\n",
    "    model,\n",
    "    test_item,\n",
    "    normalize=False,\n",
    "    start_date_train=\"2017-11-09\",\n",
    "    start_date_val=\"2023-08-08\",\n",
    "    end_date_val=\"2023-09-07\",\n",
    "):\n",
    "    from datetime import date, timedelta\n",
    "\n",
    "    test_item_date = test_item.Date.date()\n",
    "\n",
    "    end_date_train = (test_item_date - timedelta(days=1)).strftime(\"%Y-%m-%d\")\n",
    "\n",
    "    X_train, y_train = train_test_split_by_date(\n",
    "        df_train_val,\n",
    "        start_date_train,\n",
    "        end_date_train,\n",
    "        start_date_val,\n",
    "        end_date_val,\n",
    "        divide_X_y=True,\n",
    "        test=False,\n",
    "    )\n",
    "\n",
    "    X_train = X_train.drop(\"Date\", axis=1)\n",
    "    X_test = (test_item[1:].to_frame().T).astype(float)\n",
    "\n",
    "    # Normalized\n",
    "    # if normalize:\n",
    "    X_train, X_test = normalization(X_train, X_test, method=\"PowerTransformer\")\n",
    "\n",
    "    # Train model\n",
    "    model.fit(X_train, y_train)\n",
    "\n",
    "    # Predict\n",
    "    y_pred = model.predict(X_test)\n",
    "\n",
    "    return y_pred"
   ]
  },
  {
   "cell_type": "markdown",
   "metadata": {},
   "source": [
    "### Define Evaluation Matrixes\n"
   ]
  },
  {
   "cell_type": "code",
   "execution_count": 44,
   "metadata": {},
   "outputs": [],
   "source": [
    "df_confusion_val = pd.DataFrame({}, columns=[\"tn\", \"fp\", \"fn\", \"tp\"])\n",
    "df_evaluation_val = pd.DataFrame(\n",
    "    columns=[\"Accuracy\", \"Precision\", \"Recall\", \"F1 Score\", \"AUC\", \"MSE\"]\n",
    ")"
   ]
  },
  {
   "cell_type": "markdown",
   "metadata": {},
   "source": [
    "### Try models\n"
   ]
  },
  {
   "cell_type": "markdown",
   "metadata": {},
   "source": [
    "##### Logistic Regression\n"
   ]
  },
  {
   "cell_type": "code",
   "execution_count": 45,
   "metadata": {},
   "outputs": [],
   "source": [
    "def logestic_regression(df, X_test, y_test, df_evaluation, df_confusion):\n",
    "    from sklearn.linear_model import LogisticRegression\n",
    "\n",
    "    model_lr = LogisticRegression(C=1, penalty=\"l2\")\n",
    "    model_name = \"Logistic Regression\"\n",
    "\n",
    "    df_confusion.loc[model_name] = {\"tp\": 0, \"tn\": 0, \"fp\": 0, \"fn\": 0}\n",
    "    df_evaluation.loc[model_name] = {\n",
    "        \"Accuracy\": 0,\n",
    "        \"Precision\": 0,\n",
    "        \"Recall\": 0,\n",
    "        \"F1 Score\": 0,\n",
    "        \"AUC\": 0,\n",
    "        \"MSE\": 0,\n",
    "    }\n",
    "\n",
    "    model_new = model_lr\n",
    "    y_pred_list = []\n",
    "    for i in range(len(X_test)):\n",
    "        test_item = X_test.iloc[i]\n",
    "\n",
    "        model = model_new\n",
    "\n",
    "        y_val_pred = model_predict(df, model, test_item, normalize=True)\n",
    "        y_pred_list.append(y_val_pred[0])\n",
    "\n",
    "    df_evaluation, df_confusion = evaluation(\n",
    "        y_test.tolist(), y_pred_list, df_evaluation, df_confusion, model_name\n",
    "    )"
   ]
  },
  {
   "cell_type": "code",
   "execution_count": 46,
   "metadata": {},
   "outputs": [
    {
     "name": "stdout",
     "output_type": "stream",
     "text": [
      "[[ 0 39]\n",
      " [ 0 53]]\n",
      "{'Accuracy': 0.5760869565217391, 'Precision': 0.5760869565217391, 'Recall': 1.0, 'F1 Score': 0.7310344827586206, 'AUC': 0.5, 'MSE': 0.42391304347826086}\n"
     ]
    }
   ],
   "source": [
    "logestic_regression(\n",
    "    df_train_val, X_validation, y_validation, df_evaluation_val, df_confusion_val\n",
    ")"
   ]
  },
  {
   "cell_type": "code",
   "execution_count": 108,
   "metadata": {},
   "outputs": [
    {
     "name": "stdout",
     "output_type": "stream",
     "text": [
      "[[ 0 39]\n",
      " [ 0 53]]\n",
      "{'Accuracy': 0.5760869565217391, 'Precision': 0.5760869565217391, 'Recall': 1.0, 'F1 Score': 0.7310344827586206, 'AUC': 0.5, 'MSE': 0.42391304347826086}\n"
     ]
    }
   ],
   "source": [
    "logestic_regression(\n",
    "    df_train_val_no_outliers_zScore,\n",
    "    X_validation,\n",
    "    y_validation,\n",
    "    df_evaluation_val,\n",
    "    df_confusion_val,\n",
    ")"
   ]
  },
  {
   "cell_type": "code",
   "execution_count": 109,
   "metadata": {},
   "outputs": [
    {
     "name": "stdout",
     "output_type": "stream",
     "text": [
      "[[ 0 39]\n",
      " [ 0 53]]\n",
      "{'Accuracy': 0.5760869565217391, 'Precision': 0.5760869565217391, 'Recall': 1.0, 'F1 Score': 0.7310344827586206, 'AUC': 0.5, 'MSE': 0.42391304347826086}\n"
     ]
    }
   ],
   "source": [
    "logestic_regression(\n",
    "    df_train_val_no_outliers_lof,\n",
    "    X_validation,\n",
    "    y_validation,\n",
    "    df_evaluation_val,\n",
    "    df_confusion_val,\n",
    ")"
   ]
  },
  {
   "cell_type": "markdown",
   "metadata": {},
   "source": [
    "##### Decision Tree\n"
   ]
  },
  {
   "cell_type": "code",
   "execution_count": 47,
   "metadata": {},
   "outputs": [],
   "source": [
    "def decision_tree_classifier(\n",
    "    df, X_test, y_test, df_evaluation, df_confusion, max_depth\n",
    "):\n",
    "    from sklearn.tree import DecisionTreeClassifier\n",
    "\n",
    "    model_dt = DecisionTreeClassifier(max_depth=max_depth, random_state=42)\n",
    "    model_name = \"Decision Tree\"\n",
    "\n",
    "    df_confusion.loc[model_name] = {\"tp\": 0, \"tn\": 0, \"fp\": 0, \"fn\": 0}\n",
    "    df_evaluation.loc[model_name] = {\n",
    "        \"Accuracy\": 0,\n",
    "        \"Precision\": 0,\n",
    "        \"Recall\": 0,\n",
    "        \"F1 Score\": 0,\n",
    "        \"AUC\": 0,\n",
    "        \"MSE\": 0,\n",
    "    }\n",
    "\n",
    "    model_new = model_dt\n",
    "    y_pred_list = []\n",
    "    for i in range(len(X_test)):\n",
    "        test_item = X_test.iloc[i]\n",
    "\n",
    "        model = model_new\n",
    "\n",
    "        y_val_pred = model_predict(df, model, test_item, normalize=False)\n",
    "        y_pred_list.append(y_val_pred[0])\n",
    "\n",
    "    df_evaluation, df_confusion = evaluation(\n",
    "        y_test.tolist(), y_pred_list, df_evaluation, df_confusion, model_name\n",
    "    )"
   ]
  },
  {
   "cell_type": "code",
   "execution_count": 117,
   "metadata": {},
   "outputs": [
    {
     "name": "stdout",
     "output_type": "stream",
     "text": [
      "[[11 28]\n",
      " [25 28]]\n",
      "{'Accuracy': 0.42391304347826086, 'Precision': 0.5, 'Recall': 0.5283018867924528, 'F1 Score': 0.5137614678899083, 'AUC': 0.40517658442186744, 'MSE': 0.5760869565217391}\n"
     ]
    }
   ],
   "source": [
    "max_depth = 20\n",
    "decision_tree_classifier(\n",
    "    df_train_val,\n",
    "    X_validation,\n",
    "    y_validation,\n",
    "    df_evaluation_val,\n",
    "    df_confusion_val,\n",
    "    max_depth,\n",
    ")"
   ]
  },
  {
   "cell_type": "code",
   "execution_count": 118,
   "metadata": {},
   "outputs": [
    {
     "name": "stdout",
     "output_type": "stream",
     "text": [
      "[[13 26]\n",
      " [24 29]]\n",
      "{'Accuracy': 0.45652173913043476, 'Precision': 0.5272727272727272, 'Recall': 0.5471698113207547, 'F1 Score': 0.537037037037037, 'AUC': 0.44025157232704404, 'MSE': 0.5434782608695652}\n"
     ]
    }
   ],
   "source": [
    "max_depth = 20\n",
    "decision_tree_classifier(\n",
    "    df_train_val_no_outliers_zScore,\n",
    "    X_validation,\n",
    "    y_validation,\n",
    "    df_evaluation_val,\n",
    "    df_confusion_val,\n",
    "    max_depth,\n",
    ")"
   ]
  },
  {
   "cell_type": "code",
   "execution_count": 119,
   "metadata": {},
   "outputs": [
    {
     "name": "stdout",
     "output_type": "stream",
     "text": [
      "[[16 23]\n",
      " [30 23]]\n",
      "{'Accuracy': 0.42391304347826086, 'Precision': 0.5, 'Recall': 0.4339622641509434, 'F1 Score': 0.46464646464646464, 'AUC': 0.4221093372036768, 'MSE': 0.5760869565217391}\n"
     ]
    }
   ],
   "source": [
    "max_depth = 20\n",
    "decision_tree_classifier(\n",
    "    df_train_val_no_outliers_lof,\n",
    "    X_validation,\n",
    "    y_validation,\n",
    "    df_evaluation_val,\n",
    "    df_confusion_val,\n",
    "    max_depth,\n",
    ")"
   ]
  },
  {
   "cell_type": "markdown",
   "metadata": {},
   "source": [
    "##### SVM\n"
   ]
  },
  {
   "cell_type": "code",
   "execution_count": 51,
   "metadata": {},
   "outputs": [],
   "source": [
    "def svm(df, X_test, y_test, df_evaluation, df_confusion):\n",
    "    from sklearn.svm import SVC\n",
    "\n",
    "    model_svm = SVC()\n",
    "    model_name = \"SVM\"\n",
    "\n",
    "    df_confusion.loc[model_name] = {\"tp\": 0, \"tn\": 0, \"fp\": 0, \"fn\": 0}\n",
    "    df_evaluation.loc[model_name] = {\n",
    "        \"Accuracy\": 0,\n",
    "        \"Precision\": 0,\n",
    "        \"Recall\": 0,\n",
    "        \"F1 Score\": 0,\n",
    "        \"AUC\": 0,\n",
    "        \"MSE\": 0,\n",
    "    }\n",
    "\n",
    "    # change Label 0 to -1\n",
    "    # df[\"Label\"] = df[\"Label\"].replace({0: -1})\n",
    "    # y_test = y_test.replace({0: -1})\n",
    "\n",
    "    model_new = model_svm\n",
    "    y_pred_list = []\n",
    "    for i in range(len(X_test)):\n",
    "        test_item = X_test.iloc[i]\n",
    "\n",
    "        model = model_new\n",
    "\n",
    "        y_val_pred = model_predict(df, model, test_item, normalize=False)\n",
    "        y_pred_list.append(y_val_pred[0])\n",
    "\n",
    "    df_evaluation, df_confusion = evaluation(\n",
    "        y_test.tolist(), y_pred_list, df_evaluation, df_confusion, model_name\n",
    "    )\n",
    "    # print(y_pred_list)\n",
    "    # print(y_test.tolist())"
   ]
  },
  {
   "cell_type": "code",
   "execution_count": 52,
   "metadata": {},
   "outputs": [
    {
     "name": "stdout",
     "output_type": "stream",
     "text": [
      "[[ 0 39]\n",
      " [ 0 53]]\n",
      "{'Accuracy': 0.5760869565217391, 'Precision': 0.5760869565217391, 'Recall': 1.0, 'F1 Score': 0.7310344827586206, 'AUC': 0.5, 'MSE': 0.42391304347826086}\n"
     ]
    }
   ],
   "source": [
    "svm(\n",
    "    df_train_val.copy(), X_validation, y_validation, df_evaluation_val, df_confusion_val\n",
    ")"
   ]
  },
  {
   "cell_type": "code",
   "execution_count": 110,
   "metadata": {},
   "outputs": [
    {
     "name": "stdout",
     "output_type": "stream",
     "text": [
      "[[ 0 39]\n",
      " [ 0 53]]\n",
      "{'Accuracy': 0.5760869565217391, 'Precision': 0.5760869565217391, 'Recall': 1.0, 'F1 Score': 0.7310344827586206, 'AUC': 0.5, 'MSE': 0.42391304347826086}\n"
     ]
    }
   ],
   "source": [
    "svm(\n",
    "    df_train_val_no_outliers_zScore.copy(),\n",
    "    X_validation,\n",
    "    y_validation,\n",
    "    df_evaluation_val,\n",
    "    df_confusion_val,\n",
    ")"
   ]
  },
  {
   "cell_type": "code",
   "execution_count": 111,
   "metadata": {},
   "outputs": [
    {
     "name": "stdout",
     "output_type": "stream",
     "text": [
      "[[ 0 39]\n",
      " [ 0 53]]\n",
      "{'Accuracy': 0.5760869565217391, 'Precision': 0.5760869565217391, 'Recall': 1.0, 'F1 Score': 0.7310344827586206, 'AUC': 0.5, 'MSE': 0.42391304347826086}\n"
     ]
    }
   ],
   "source": [
    "svm(\n",
    "    df_train_val_no_outliers_lof.copy(),\n",
    "    X_validation,\n",
    "    y_validation,\n",
    "    df_evaluation_val,\n",
    "    df_confusion_val,\n",
    ")"
   ]
  },
  {
   "cell_type": "markdown",
   "metadata": {},
   "source": [
    "##### AdaBoost\n"
   ]
  },
  {
   "cell_type": "code",
   "execution_count": 214,
   "metadata": {},
   "outputs": [],
   "source": [
    "def ada_boost(df, X_test, y_test, df_evaluation, df_confusion):\n",
    "    from sklearn.ensemble import AdaBoostClassifier\n",
    "\n",
    "    model_ada = AdaBoostClassifier(learning_rate=2.5, random_state=42)\n",
    "    model_name = \"Ada Boost\"\n",
    "\n",
    "    df_confusion.loc[model_name] = {\"tp\": 0, \"tn\": 0, \"fp\": 0, \"fn\": 0}\n",
    "    df_evaluation.loc[model_name] = {\n",
    "        \"Accuracy\": 0,\n",
    "        \"Precision\": 0,\n",
    "        \"Recall\": 0,\n",
    "        \"F1 Score\": 0,\n",
    "        \"AUC\": 0,\n",
    "        \"MSE\": 0,\n",
    "    }\n",
    "\n",
    "    model_new = model_ada\n",
    "    y_pred_list = []\n",
    "    for i in range(len(X_test)):\n",
    "        test_item = X_test.iloc[i]\n",
    "\n",
    "        model = model_new\n",
    "\n",
    "        y_val_pred = model_predict(df, model, test_item, normalize=False)\n",
    "        y_pred_list.append(y_val_pred[0])\n",
    "\n",
    "    df_evaluation, df_confusion = evaluation(\n",
    "        y_test.tolist(), y_pred_list, df_evaluation, df_confusion, model_name\n",
    "    )"
   ]
  },
  {
   "cell_type": "code",
   "execution_count": 215,
   "metadata": {},
   "outputs": [
    {
     "name": "stdout",
     "output_type": "stream",
     "text": [
      "[[ 0 39]\n",
      " [ 0 53]]\n",
      "{'Accuracy': 0.5760869565217391, 'Precision': 0.5760869565217391, 'Recall': 1.0, 'F1 Score': 0.7310344827586206, 'AUC': 0.5, 'MSE': 0.42391304347826086}\n"
     ]
    }
   ],
   "source": [
    "ada_boost(df_train_val, X_validation, y_validation, df_evaluation_val, df_confusion_val)"
   ]
  },
  {
   "cell_type": "code",
   "execution_count": 216,
   "metadata": {},
   "outputs": [
    {
     "name": "stdout",
     "output_type": "stream",
     "text": [
      "[[ 0 39]\n",
      " [ 0 53]]\n",
      "{'Accuracy': 0.5760869565217391, 'Precision': 0.5760869565217391, 'Recall': 1.0, 'F1 Score': 0.7310344827586206, 'AUC': 0.5, 'MSE': 0.42391304347826086}\n"
     ]
    }
   ],
   "source": [
    "ada_boost(\n",
    "    df_train_val_no_outliers_zScore,\n",
    "    X_validation,\n",
    "    y_validation,\n",
    "    df_evaluation_val,\n",
    "    df_confusion_val,\n",
    ")"
   ]
  },
  {
   "cell_type": "code",
   "execution_count": 146,
   "metadata": {},
   "outputs": [
    {
     "name": "stdout",
     "output_type": "stream",
     "text": [
      "[[11 28]\n",
      " [ 9 44]]\n",
      "{'Accuracy': 0.5978260869565217, 'Precision': 0.6111111111111112, 'Recall': 0.8301886792452831, 'F1 Score': 0.7040000000000001, 'AUC': 0.5561199806482826, 'MSE': 0.40217391304347827}\n"
     ]
    }
   ],
   "source": [
    "ada_boost(\n",
    "    df_train_val_no_outliers_lof,\n",
    "    X_validation,\n",
    "    y_validation,\n",
    "    df_evaluation_val,\n",
    "    df_confusion_val,\n",
    ")"
   ]
  },
  {
   "cell_type": "markdown",
   "metadata": {},
   "source": [
    "##### KNN\n"
   ]
  },
  {
   "cell_type": "code",
   "execution_count": 57,
   "metadata": {},
   "outputs": [],
   "source": [
    "def knn(\n",
    "    df, X_test, y_test, df_evaluation, df_confusion, n_neighbors, metric=\"manhattan\"\n",
    "):\n",
    "    from sklearn.neighbors import KNeighborsClassifier\n",
    "\n",
    "    model_knn = KNeighborsClassifier(n_neighbors=n_neighbors, metric=metric)\n",
    "    model_name = \"KNN\"\n",
    "\n",
    "    df_confusion.loc[model_name] = {\"tp\": 0, \"tn\": 0, \"fp\": 0, \"fn\": 0}\n",
    "    df_evaluation.loc[model_name] = {\n",
    "        \"Accuracy\": 0,\n",
    "        \"Precision\": 0,\n",
    "        \"Recall\": 0,\n",
    "        \"F1 Score\": 0,\n",
    "        \"AUC\": 0,\n",
    "        \"MSE\": 0,\n",
    "    }\n",
    "\n",
    "    model_new = model_knn\n",
    "    y_pred_list = []\n",
    "    for i in range(len(X_test)):\n",
    "        test_item = X_test.iloc[i]\n",
    "\n",
    "        model = model_new\n",
    "\n",
    "        y_val_pred = model_predict(df, model, test_item, normalize=True)\n",
    "        y_pred_list.append(y_val_pred[0])\n",
    "\n",
    "    df_evaluation, df_confusion = evaluation(\n",
    "        y_test.tolist(), y_pred_list, df_evaluation, df_confusion, model_name\n",
    "    )"
   ]
  },
  {
   "cell_type": "code",
   "execution_count": 228,
   "metadata": {},
   "outputs": [
    {
     "name": "stdout",
     "output_type": "stream",
     "text": [
      "[[11 28]\n",
      " [19 34]]\n",
      "{'Accuracy': 0.4891304347826087, 'Precision': 0.5483870967741935, 'Recall': 0.6415094339622641, 'F1 Score': 0.591304347826087, 'AUC': 0.4617803580067731, 'MSE': 0.5108695652173914}\n"
     ]
    }
   ],
   "source": [
    "n_neighbors = 15\n",
    "metric = \"euclidean\"\n",
    "knn(\n",
    "    df_train_val,\n",
    "    X_validation,\n",
    "    y_validation,\n",
    "    df_evaluation_val,\n",
    "    df_confusion_val,\n",
    "    n_neighbors,\n",
    "    metric,\n",
    ")"
   ]
  },
  {
   "cell_type": "code",
   "execution_count": 221,
   "metadata": {},
   "outputs": [
    {
     "name": "stdout",
     "output_type": "stream",
     "text": [
      "[[ 9 30]\n",
      " [14 39]]\n",
      "{'Accuracy': 0.5217391304347826, 'Precision': 0.5652173913043478, 'Recall': 0.7358490566037735, 'F1 Score': 0.6393442622950819, 'AUC': 0.48330914368650213, 'MSE': 0.4782608695652174}\n"
     ]
    }
   ],
   "source": [
    "n_neighbors = 15\n",
    "metric = \"manhattan\"\n",
    "knn(\n",
    "    df_train_val_no_outliers_zScore,\n",
    "    X_validation,\n",
    "    y_validation,\n",
    "    df_evaluation_val,\n",
    "    df_confusion_val,\n",
    "    n_neighbors,\n",
    "    metric,\n",
    ")"
   ]
  },
  {
   "cell_type": "code",
   "execution_count": 224,
   "metadata": {},
   "outputs": [
    {
     "name": "stdout",
     "output_type": "stream",
     "text": [
      "[[12 27]\n",
      " [18 35]]\n",
      "{'Accuracy': 0.5108695652173914, 'Precision': 0.5645161290322581, 'Recall': 0.660377358490566, 'F1 Score': 0.6086956521739131, 'AUC': 0.4840348330914369, 'MSE': 0.4891304347826087}\n"
     ]
    }
   ],
   "source": [
    "n_neighbors = 15\n",
    "metric = \"manhattan\"\n",
    "knn(\n",
    "    df_train_val_no_outliers_lof,\n",
    "    X_validation,\n",
    "    y_validation,\n",
    "    df_evaluation_val,\n",
    "    df_confusion_val,\n",
    "    n_neighbors,\n",
    "    metric,\n",
    ")"
   ]
  },
  {
   "cell_type": "markdown",
   "metadata": {},
   "source": [
    "##### Random Forest\n"
   ]
  },
  {
   "cell_type": "code",
   "execution_count": 61,
   "metadata": {},
   "outputs": [],
   "source": [
    "def random_forest_classifier(\n",
    "    df, X_test, y_test, df_evaluation, df_confusion, max_depth, n_estimators\n",
    "):\n",
    "    from sklearn.ensemble import RandomForestClassifier\n",
    "\n",
    "    model_rf = RandomForestClassifier(\n",
    "        max_depth=max_depth,\n",
    "        random_state=42,\n",
    "        n_estimators=n_estimators,\n",
    "    )\n",
    "    model_name = \"Random Forest\"\n",
    "\n",
    "    df_confusion.loc[model_name] = {\"tp\": 0, \"tn\": 0, \"fp\": 0, \"fn\": 0}\n",
    "    df_evaluation.loc[model_name] = {\n",
    "        \"Accuracy\": 0,\n",
    "        \"Precision\": 0,\n",
    "        \"Recall\": 0,\n",
    "        \"F1 Score\": 0,\n",
    "        \"AUC\": 0,\n",
    "        \"MSE\": 0,\n",
    "    }\n",
    "\n",
    "    model_new = model_rf\n",
    "    y_pred_list = []\n",
    "    for i in range(len(X_test)):\n",
    "        test_item = X_test.iloc[i]\n",
    "\n",
    "        model = model_new\n",
    "\n",
    "        y_val_pred = model_predict(df, model, test_item, normalize=False)\n",
    "        y_pred_list.append(y_val_pred[0])\n",
    "\n",
    "    df_evaluation, df_confusion = evaluation(\n",
    "        y_test.tolist(), y_pred_list, df_evaluation, df_confusion, model_name\n",
    "    )"
   ]
  },
  {
   "cell_type": "code",
   "execution_count": 183,
   "metadata": {},
   "outputs": [
    {
     "name": "stdout",
     "output_type": "stream",
     "text": [
      "[[12 27]\n",
      " [14 39]]\n",
      "{'Accuracy': 0.5543478260869565, 'Precision': 0.5909090909090909, 'Recall': 0.7358490566037735, 'F1 Score': 0.6554621848739496, 'AUC': 0.5217706821480407, 'MSE': 0.44565217391304346}\n"
     ]
    }
   ],
   "source": [
    "max_depth = 15\n",
    "n_estimators = 100\n",
    "random_forest_classifier(\n",
    "    df_train_val,\n",
    "    X_validation,\n",
    "    y_validation,\n",
    "    df_evaluation_val,\n",
    "    df_confusion_val,\n",
    "    max_depth,\n",
    "    n_estimators,\n",
    ")"
   ]
  },
  {
   "cell_type": "code",
   "execution_count": 184,
   "metadata": {},
   "outputs": [
    {
     "name": "stdout",
     "output_type": "stream",
     "text": [
      "[[13 26]\n",
      " [16 37]]\n",
      "{'Accuracy': 0.5434782608695652, 'Precision': 0.5873015873015873, 'Recall': 0.6981132075471698, 'F1 Score': 0.6379310344827586, 'AUC': 0.5157232704402516, 'MSE': 0.45652173913043476}\n"
     ]
    }
   ],
   "source": [
    "max_depth = 15\n",
    "n_estimators = 100\n",
    "random_forest_classifier(\n",
    "    df_train_val_no_outliers_zScore,\n",
    "    X_validation,\n",
    "    y_validation,\n",
    "    df_evaluation_val,\n",
    "    df_confusion_val,\n",
    "    max_depth,\n",
    "    n_estimators,\n",
    ")"
   ]
  },
  {
   "cell_type": "code",
   "execution_count": 185,
   "metadata": {},
   "outputs": [
    {
     "name": "stdout",
     "output_type": "stream",
     "text": [
      "[[10 29]\n",
      " [19 34]]\n",
      "{'Accuracy': 0.4782608695652174, 'Precision': 0.5396825396825397, 'Recall': 0.6415094339622641, 'F1 Score': 0.5862068965517241, 'AUC': 0.44895984518626025, 'MSE': 0.5217391304347826}\n"
     ]
    }
   ],
   "source": [
    "max_depth = 15\n",
    "n_estimators = 100\n",
    "random_forest_classifier(\n",
    "    df_train_val_no_outliers_lof,\n",
    "    X_validation,\n",
    "    y_validation,\n",
    "    df_evaluation_val,\n",
    "    df_confusion_val,\n",
    "    max_depth,\n",
    "    n_estimators,\n",
    ")"
   ]
  },
  {
   "cell_type": "markdown",
   "metadata": {},
   "source": [
    "##### Gausian\n"
   ]
  },
  {
   "cell_type": "code",
   "execution_count": 65,
   "metadata": {},
   "outputs": [],
   "source": [
    "def gaussian_nb(df, X_test, y_test, df_evaluation, df_confusion):\n",
    "    from sklearn.naive_bayes import GaussianNB\n",
    "\n",
    "    model_gnb = GaussianNB()\n",
    "    model_name = \"Gaussian NB\"\n",
    "\n",
    "    df_confusion.loc[model_name] = {\"tp\": 0, \"tn\": 0, \"fp\": 0, \"fn\": 0}\n",
    "    df_evaluation.loc[model_name] = {\n",
    "        \"Accuracy\": 0,\n",
    "        \"Precision\": 0,\n",
    "        \"Recall\": 0,\n",
    "        \"F1 Score\": 0,\n",
    "        \"AUC\": 0,\n",
    "        \"MSE\": 0,\n",
    "    }\n",
    "\n",
    "    model_new = model_gnb\n",
    "    y_pred_list = []\n",
    "    for i in range(len(X_test)):\n",
    "        test_item = X_test.iloc[i]\n",
    "\n",
    "        model = model_new\n",
    "\n",
    "        y_val_pred = model_predict(df, model, test_item, normalize=True)\n",
    "        y_pred_list.append(y_val_pred[0])\n",
    "\n",
    "    df_evaluation, df_confusion = evaluation(\n",
    "        y_test.tolist(), y_pred_list, df_evaluation, df_confusion, model_name\n",
    "    )"
   ]
  },
  {
   "cell_type": "code",
   "execution_count": 66,
   "metadata": {},
   "outputs": [
    {
     "name": "stdout",
     "output_type": "stream",
     "text": [
      "[[ 0 39]\n",
      " [ 0 53]]\n",
      "{'Accuracy': 0.5760869565217391, 'Precision': 0.5760869565217391, 'Recall': 1.0, 'F1 Score': 0.7310344827586206, 'AUC': 0.5, 'MSE': 0.42391304347826086}\n"
     ]
    }
   ],
   "source": [
    "gaussian_nb(\n",
    "    df_train_val, X_validation, y_validation, df_evaluation_val, df_confusion_val\n",
    ")"
   ]
  },
  {
   "cell_type": "code",
   "execution_count": 112,
   "metadata": {},
   "outputs": [
    {
     "name": "stdout",
     "output_type": "stream",
     "text": [
      "[[ 0 39]\n",
      " [ 0 53]]\n",
      "{'Accuracy': 0.5760869565217391, 'Precision': 0.5760869565217391, 'Recall': 1.0, 'F1 Score': 0.7310344827586206, 'AUC': 0.5, 'MSE': 0.42391304347826086}\n"
     ]
    }
   ],
   "source": [
    "gaussian_nb(\n",
    "    df_train_val_no_outliers_zScore,\n",
    "    X_validation,\n",
    "    y_validation,\n",
    "    df_evaluation_val,\n",
    "    df_confusion_val,\n",
    ")"
   ]
  },
  {
   "cell_type": "code",
   "execution_count": 113,
   "metadata": {},
   "outputs": [
    {
     "name": "stdout",
     "output_type": "stream",
     "text": [
      "[[ 0 39]\n",
      " [ 0 53]]\n",
      "{'Accuracy': 0.5760869565217391, 'Precision': 0.5760869565217391, 'Recall': 1.0, 'F1 Score': 0.7310344827586206, 'AUC': 0.5, 'MSE': 0.42391304347826086}\n"
     ]
    }
   ],
   "source": [
    "gaussian_nb(\n",
    "    df_train_val_no_outliers_lof,\n",
    "    X_validation,\n",
    "    y_validation,\n",
    "    df_evaluation_val,\n",
    "    df_confusion_val,\n",
    ")"
   ]
  },
  {
   "cell_type": "markdown",
   "metadata": {},
   "source": [
    "##### XGboost\n"
   ]
  },
  {
   "cell_type": "code",
   "execution_count": 67,
   "metadata": {},
   "outputs": [],
   "source": [
    "# ! pip install xgboost"
   ]
  },
  {
   "cell_type": "code",
   "execution_count": 68,
   "metadata": {},
   "outputs": [],
   "source": [
    "def xg_boost(df, X_test, y_test, df_evaluation, df_confusion):\n",
    "    from xgboost import XGBClassifier\n",
    "\n",
    "    model_xgb = XGBClassifier(random_state=42)\n",
    "    model_name = \"Xg Boost\"\n",
    "\n",
    "    df_confusion.loc[model_name] = {\"tp\": 0, \"tn\": 0, \"fp\": 0, \"fn\": 0}\n",
    "    df_evaluation.loc[model_name] = {\n",
    "        \"Accuracy\": 0,\n",
    "        \"Precision\": 0,\n",
    "        \"Recall\": 0,\n",
    "        \"F1 Score\": 0,\n",
    "        \"AUC\": 0,\n",
    "        \"MSE\": 0,\n",
    "    }\n",
    "\n",
    "    model_new = model_xgb\n",
    "    y_pred_list = []\n",
    "    for i in range(len(X_test)):\n",
    "        test_item = X_test.iloc[i]\n",
    "\n",
    "        model = model_new\n",
    "\n",
    "        y_val_pred = model_predict(df, model, test_item, normalize=False)\n",
    "        y_pred_list.append(y_val_pred[0])\n",
    "\n",
    "    df_evaluation, df_confusion = evaluation(\n",
    "        y_test.tolist(), y_pred_list, df_evaluation, df_confusion, model_name\n",
    "    )"
   ]
  },
  {
   "cell_type": "code",
   "execution_count": 69,
   "metadata": {},
   "outputs": [
    {
     "name": "stdout",
     "output_type": "stream",
     "text": [
      "[[14 25]\n",
      " [24 29]]\n",
      "{'Accuracy': 0.4673913043478261, 'Precision': 0.5370370370370371, 'Recall': 0.5471698113207547, 'F1 Score': 0.5420560747663552, 'AUC': 0.4530720851475568, 'MSE': 0.532608695652174}\n"
     ]
    }
   ],
   "source": [
    "xg_boost(df_train_val, X_validation, y_validation, df_evaluation_val, df_confusion_val)"
   ]
  },
  {
   "cell_type": "code",
   "execution_count": 70,
   "metadata": {},
   "outputs": [
    {
     "name": "stdout",
     "output_type": "stream",
     "text": [
      "[[14 25]\n",
      " [20 33]]\n",
      "{'Accuracy': 0.5108695652173914, 'Precision': 0.5689655172413793, 'Recall': 0.6226415094339622, 'F1 Score': 0.5945945945945946, 'AUC': 0.4908079342041606, 'MSE': 0.4891304347826087}\n"
     ]
    }
   ],
   "source": [
    "xg_boost(\n",
    "    df_train_val_no_outliers_zScore,\n",
    "    X_validation,\n",
    "    y_validation,\n",
    "    df_evaluation_val,\n",
    "    df_confusion_val,\n",
    ")"
   ]
  },
  {
   "cell_type": "code",
   "execution_count": 71,
   "metadata": {},
   "outputs": [
    {
     "name": "stdout",
     "output_type": "stream",
     "text": [
      "[[ 9 30]\n",
      " [18 35]]\n",
      "{'Accuracy': 0.4782608695652174, 'Precision': 0.5384615384615384, 'Recall': 0.660377358490566, 'F1 Score': 0.5932203389830508, 'AUC': 0.44557329462989836, 'MSE': 0.5217391304347826}\n"
     ]
    }
   ],
   "source": [
    "xg_boost(\n",
    "    df_train_val_no_outliers_lof,\n",
    "    X_validation,\n",
    "    y_validation,\n",
    "    df_evaluation_val,\n",
    "    df_confusion_val,\n",
    ")"
   ]
  },
  {
   "cell_type": "markdown",
   "metadata": {},
   "source": [
    "##### Staking Models\n"
   ]
  },
  {
   "cell_type": "code",
   "execution_count": 72,
   "metadata": {},
   "outputs": [],
   "source": [
    "# ! pip install mlxtend"
   ]
  },
  {
   "cell_type": "code",
   "execution_count": 244,
   "metadata": {},
   "outputs": [],
   "source": [
    "def stacking(df, X_test, y_test, df_evaluation, df_confusion):\n",
    "    from sklearn.ensemble import RandomForestClassifier, AdaBoostClassifier\n",
    "    from xgboost import XGBClassifier\n",
    "    from mlxtend.classifier import StackingClassifier\n",
    "    from sklearn.neighbors import KNeighborsClassifier\n",
    "    from sklearn.tree import DecisionTreeClassifier\n",
    "    from sklearn.linear_model import LogisticRegression\n",
    "    from sklearn.svm import SVC\n",
    "\n",
    "    model_svm = SVC(probability=True)\n",
    "    model_lr = LogisticRegression(C=1, penalty=\"l2\")\n",
    "    model_dt = DecisionTreeClassifier(max_depth=max_depth, random_state=42)\n",
    "    model_rf = RandomForestClassifier(n_estimators=100, max_depth=15, random_state=42)\n",
    "    model_xgb = XGBClassifier(objective=\"binary:logistic\", random_state=42)\n",
    "    model_knn = KNeighborsClassifier(n_neighbors=5, metric=\"minkowski\")\n",
    "    model_adaboost = AdaBoostClassifier(learning_rate=0.9, random_state=42)\n",
    "\n",
    "    stacking_model = StackingClassifier(\n",
    "        classifiers=[model_knn, model_rf],\n",
    "        use_probas=True,\n",
    "        meta_classifier=RandomForestClassifier(n_estimators=100, random_state=42),\n",
    "    )\n",
    "\n",
    "    model_name = \"Stacking ()\"\n",
    "\n",
    "    df_confusion.loc[model_name] = {\"tp\": 0, \"tn\": 0, \"fp\": 0, \"fn\": 0}\n",
    "    df_evaluation.loc[model_name] = {\n",
    "        \"Accuracy\": 0,\n",
    "        \"Precision\": 0,\n",
    "        \"Recall\": 0,\n",
    "        \"F1 Score\": 0,\n",
    "        \"AUC\": 0,\n",
    "        \"MSE\": 0,\n",
    "    }\n",
    "\n",
    "    model_new = stacking_model\n",
    "    y_pred_list = []\n",
    "    for i in range(len(X_test)):\n",
    "        test_item = X_test.iloc[i]\n",
    "\n",
    "        model = model_new\n",
    "\n",
    "        y_val_pred = model_predict(df, model, test_item, normalize=False)\n",
    "        y_pred_list.append(y_val_pred[0])\n",
    "\n",
    "    df_evaluation, df_confusion = evaluation(\n",
    "        y_test.tolist(), y_pred_list, df_evaluation, df_confusion, model_name\n",
    "    )"
   ]
  },
  {
   "cell_type": "code",
   "execution_count": 245,
   "metadata": {},
   "outputs": [
    {
     "name": "stdout",
     "output_type": "stream",
     "text": [
      "[[15 24]\n",
      " [19 34]]\n",
      "{'Accuracy': 0.532608695652174, 'Precision': 0.5862068965517241, 'Recall': 0.6415094339622641, 'F1 Score': 0.6126126126126126, 'AUC': 0.5130624092888243, 'MSE': 0.4673913043478261}\n"
     ]
    }
   ],
   "source": [
    "stacking(df_train_val, X_validation, y_validation, df_evaluation_val, df_confusion_val)"
   ]
  },
  {
   "cell_type": "code",
   "execution_count": 75,
   "metadata": {},
   "outputs": [
    {
     "name": "stdout",
     "output_type": "stream",
     "text": [
      "[[10 29]\n",
      " [17 36]]\n",
      "{'Accuracy': 0.5, 'Precision': 0.5538461538461539, 'Recall': 0.6792452830188679, 'F1 Score': 0.6101694915254237, 'AUC': 0.46782776971456214, 'MSE': 0.5}\n"
     ]
    }
   ],
   "source": [
    "stacking(\n",
    "    df_train_val_no_outliers_zScore,\n",
    "    X_validation,\n",
    "    y_validation,\n",
    "    df_evaluation_val,\n",
    "    df_confusion_val,\n",
    ")"
   ]
  },
  {
   "cell_type": "code",
   "execution_count": 76,
   "metadata": {},
   "outputs": [
    {
     "name": "stdout",
     "output_type": "stream",
     "text": [
      "[[17 22]\n",
      " [23 30]]\n",
      "{'Accuracy': 0.5108695652173914, 'Precision': 0.5769230769230769, 'Recall': 0.5660377358490566, 'F1 Score': 0.5714285714285713, 'AUC': 0.5009675858732462, 'MSE': 0.4891304347826087}\n"
     ]
    }
   ],
   "source": [
    "stacking(\n",
    "    df_train_val_no_outliers_lof,\n",
    "    X_validation,\n",
    "    y_validation,\n",
    "    df_evaluation_val,\n",
    "    df_confusion_val,\n",
    ")"
   ]
  },
  {
   "cell_type": "markdown",
   "metadata": {},
   "source": [
    "### Evaluation\n"
   ]
  },
  {
   "cell_type": "code",
   "execution_count": 77,
   "metadata": {},
   "outputs": [
    {
     "data": {
      "text/plain": [
       "0.5333333333333333"
      ]
     },
     "execution_count": 77,
     "metadata": {},
     "output_type": "execute_result"
    }
   ],
   "source": [
    "f1_score(y_validation, y_validation.shift(1).fillna(0))"
   ]
  },
  {
   "cell_type": "code",
   "execution_count": 78,
   "metadata": {},
   "outputs": [
    {
     "data": {
      "text/plain": [
       "0.5471698113207547"
      ]
     },
     "execution_count": 78,
     "metadata": {},
     "output_type": "execute_result"
    }
   ],
   "source": [
    "f1_score(y_validation, y_validation.shift(1).fillna(1))"
   ]
  },
  {
   "cell_type": "code",
   "execution_count": 79,
   "metadata": {},
   "outputs": [
    {
     "data": {
      "text/html": [
       "<div>\n",
       "<style scoped>\n",
       "    .dataframe tbody tr th:only-of-type {\n",
       "        vertical-align: middle;\n",
       "    }\n",
       "\n",
       "    .dataframe tbody tr th {\n",
       "        vertical-align: top;\n",
       "    }\n",
       "\n",
       "    .dataframe thead th {\n",
       "        text-align: right;\n",
       "    }\n",
       "</style>\n",
       "<table border=\"1\" class=\"dataframe\">\n",
       "  <thead>\n",
       "    <tr style=\"text-align: right;\">\n",
       "      <th></th>\n",
       "      <th>Accuracy</th>\n",
       "      <th>Precision</th>\n",
       "      <th>Recall</th>\n",
       "      <th>F1 Score</th>\n",
       "      <th>AUC</th>\n",
       "      <th>MSE</th>\n",
       "    </tr>\n",
       "  </thead>\n",
       "  <tbody>\n",
       "    <tr>\n",
       "      <th>Logistic Regression</th>\n",
       "      <td>0.576087</td>\n",
       "      <td>0.576087</td>\n",
       "      <td>1.000000</td>\n",
       "      <td>0.731034</td>\n",
       "      <td>0.500000</td>\n",
       "      <td>0.423913</td>\n",
       "    </tr>\n",
       "    <tr>\n",
       "      <th>Decision Tree</th>\n",
       "      <td>0.445652</td>\n",
       "      <td>0.519231</td>\n",
       "      <td>0.509434</td>\n",
       "      <td>0.514286</td>\n",
       "      <td>0.434204</td>\n",
       "      <td>0.554348</td>\n",
       "    </tr>\n",
       "    <tr>\n",
       "      <th>SVM</th>\n",
       "      <td>0.576087</td>\n",
       "      <td>0.576087</td>\n",
       "      <td>1.000000</td>\n",
       "      <td>0.731034</td>\n",
       "      <td>0.500000</td>\n",
       "      <td>0.423913</td>\n",
       "    </tr>\n",
       "    <tr>\n",
       "      <th>Ada Boost</th>\n",
       "      <td>0.586957</td>\n",
       "      <td>0.605634</td>\n",
       "      <td>0.811321</td>\n",
       "      <td>0.693548</td>\n",
       "      <td>0.546686</td>\n",
       "      <td>0.413043</td>\n",
       "    </tr>\n",
       "    <tr>\n",
       "      <th>KNN</th>\n",
       "      <td>0.510870</td>\n",
       "      <td>0.566667</td>\n",
       "      <td>0.641509</td>\n",
       "      <td>0.601770</td>\n",
       "      <td>0.487421</td>\n",
       "      <td>0.489130</td>\n",
       "    </tr>\n",
       "    <tr>\n",
       "      <th>Random Forest</th>\n",
       "      <td>0.543478</td>\n",
       "      <td>0.582090</td>\n",
       "      <td>0.735849</td>\n",
       "      <td>0.650000</td>\n",
       "      <td>0.508950</td>\n",
       "      <td>0.456522</td>\n",
       "    </tr>\n",
       "    <tr>\n",
       "      <th>Gaussian NB</th>\n",
       "      <td>0.576087</td>\n",
       "      <td>0.576087</td>\n",
       "      <td>1.000000</td>\n",
       "      <td>0.731034</td>\n",
       "      <td>0.500000</td>\n",
       "      <td>0.423913</td>\n",
       "    </tr>\n",
       "    <tr>\n",
       "      <th>Xg Boost</th>\n",
       "      <td>0.478261</td>\n",
       "      <td>0.538462</td>\n",
       "      <td>0.660377</td>\n",
       "      <td>0.593220</td>\n",
       "      <td>0.445573</td>\n",
       "      <td>0.521739</td>\n",
       "    </tr>\n",
       "    <tr>\n",
       "      <th>Stacking ()</th>\n",
       "      <td>0.510870</td>\n",
       "      <td>0.576923</td>\n",
       "      <td>0.566038</td>\n",
       "      <td>0.571429</td>\n",
       "      <td>0.500968</td>\n",
       "      <td>0.489130</td>\n",
       "    </tr>\n",
       "  </tbody>\n",
       "</table>\n",
       "</div>"
      ],
      "text/plain": [
       "                     Accuracy  Precision    Recall  F1 Score       AUC  \\\n",
       "Logistic Regression  0.576087   0.576087  1.000000  0.731034  0.500000   \n",
       "Decision Tree        0.445652   0.519231  0.509434  0.514286  0.434204   \n",
       "SVM                  0.576087   0.576087  1.000000  0.731034  0.500000   \n",
       "Ada Boost            0.586957   0.605634  0.811321  0.693548  0.546686   \n",
       "KNN                  0.510870   0.566667  0.641509  0.601770  0.487421   \n",
       "Random Forest        0.543478   0.582090  0.735849  0.650000  0.508950   \n",
       "Gaussian NB          0.576087   0.576087  1.000000  0.731034  0.500000   \n",
       "Xg Boost             0.478261   0.538462  0.660377  0.593220  0.445573   \n",
       "Stacking ()          0.510870   0.576923  0.566038  0.571429  0.500968   \n",
       "\n",
       "                          MSE  \n",
       "Logistic Regression  0.423913  \n",
       "Decision Tree        0.554348  \n",
       "SVM                  0.423913  \n",
       "Ada Boost            0.413043  \n",
       "KNN                  0.489130  \n",
       "Random Forest        0.456522  \n",
       "Gaussian NB          0.423913  \n",
       "Xg Boost             0.521739  \n",
       "Stacking ()          0.489130  "
      ]
     },
     "execution_count": 79,
     "metadata": {},
     "output_type": "execute_result"
    }
   ],
   "source": [
    "df_evaluation_val"
   ]
  },
  {
   "cell_type": "code",
   "execution_count": 80,
   "metadata": {},
   "outputs": [
    {
     "data": {
      "text/html": [
       "<div>\n",
       "<style scoped>\n",
       "    .dataframe tbody tr th:only-of-type {\n",
       "        vertical-align: middle;\n",
       "    }\n",
       "\n",
       "    .dataframe tbody tr th {\n",
       "        vertical-align: top;\n",
       "    }\n",
       "\n",
       "    .dataframe thead th {\n",
       "        text-align: right;\n",
       "    }\n",
       "</style>\n",
       "<table border=\"1\" class=\"dataframe\">\n",
       "  <thead>\n",
       "    <tr style=\"text-align: right;\">\n",
       "      <th></th>\n",
       "      <th>tn</th>\n",
       "      <th>fp</th>\n",
       "      <th>fn</th>\n",
       "      <th>tp</th>\n",
       "    </tr>\n",
       "  </thead>\n",
       "  <tbody>\n",
       "    <tr>\n",
       "      <th>Logistic Regression</th>\n",
       "      <td>0</td>\n",
       "      <td>39</td>\n",
       "      <td>0</td>\n",
       "      <td>53</td>\n",
       "    </tr>\n",
       "    <tr>\n",
       "      <th>Decision Tree</th>\n",
       "      <td>14</td>\n",
       "      <td>25</td>\n",
       "      <td>26</td>\n",
       "      <td>27</td>\n",
       "    </tr>\n",
       "    <tr>\n",
       "      <th>SVM</th>\n",
       "      <td>0</td>\n",
       "      <td>39</td>\n",
       "      <td>0</td>\n",
       "      <td>53</td>\n",
       "    </tr>\n",
       "    <tr>\n",
       "      <th>Ada Boost</th>\n",
       "      <td>11</td>\n",
       "      <td>28</td>\n",
       "      <td>10</td>\n",
       "      <td>43</td>\n",
       "    </tr>\n",
       "    <tr>\n",
       "      <th>KNN</th>\n",
       "      <td>13</td>\n",
       "      <td>26</td>\n",
       "      <td>19</td>\n",
       "      <td>34</td>\n",
       "    </tr>\n",
       "    <tr>\n",
       "      <th>Random Forest</th>\n",
       "      <td>11</td>\n",
       "      <td>28</td>\n",
       "      <td>14</td>\n",
       "      <td>39</td>\n",
       "    </tr>\n",
       "    <tr>\n",
       "      <th>Gaussian NB</th>\n",
       "      <td>0</td>\n",
       "      <td>39</td>\n",
       "      <td>0</td>\n",
       "      <td>53</td>\n",
       "    </tr>\n",
       "    <tr>\n",
       "      <th>Xg Boost</th>\n",
       "      <td>9</td>\n",
       "      <td>30</td>\n",
       "      <td>18</td>\n",
       "      <td>35</td>\n",
       "    </tr>\n",
       "    <tr>\n",
       "      <th>Stacking ()</th>\n",
       "      <td>17</td>\n",
       "      <td>22</td>\n",
       "      <td>23</td>\n",
       "      <td>30</td>\n",
       "    </tr>\n",
       "  </tbody>\n",
       "</table>\n",
       "</div>"
      ],
      "text/plain": [
       "                     tn  fp  fn  tp\n",
       "Logistic Regression   0  39   0  53\n",
       "Decision Tree        14  25  26  27\n",
       "SVM                   0  39   0  53\n",
       "Ada Boost            11  28  10  43\n",
       "KNN                  13  26  19  34\n",
       "Random Forest        11  28  14  39\n",
       "Gaussian NB           0  39   0  53\n",
       "Xg Boost              9  30  18  35\n",
       "Stacking ()          17  22  23  30"
      ]
     },
     "execution_count": 80,
     "metadata": {},
     "output_type": "execute_result"
    }
   ],
   "source": [
    "df_confusion_val"
   ]
  },
  {
   "cell_type": "markdown",
   "metadata": {},
   "source": [
    "# Test\n"
   ]
  },
  {
   "cell_type": "markdown",
   "metadata": {},
   "source": [
    "### Devide X, y\n"
   ]
  },
  {
   "cell_type": "code",
   "execution_count": 81,
   "metadata": {},
   "outputs": [],
   "source": [
    "X_test = df_test.drop(columns=[\"Label\"])\n",
    "y_test = df_test[\"Label\"]"
   ]
  },
  {
   "cell_type": "markdown",
   "metadata": {},
   "source": [
    "### Define Ealuation Dataframes\n"
   ]
  },
  {
   "cell_type": "code",
   "execution_count": 82,
   "metadata": {},
   "outputs": [],
   "source": [
    "df_confusion_test = pd.DataFrame({}, columns=[\"tn\", \"fp\", \"fn\", \"tp\"])\n",
    "df_evaluation_test = pd.DataFrame(\n",
    "    columns=[\"Accuracy\", \"Precision\", \"Recall\", \"F1 Score\", \"AUC\", \"MSE\"]\n",
    ")"
   ]
  },
  {
   "cell_type": "markdown",
   "metadata": {},
   "source": [
    "### Try Models\n"
   ]
  },
  {
   "cell_type": "code",
   "execution_count": 83,
   "metadata": {},
   "outputs": [
    {
     "name": "stdout",
     "output_type": "stream",
     "text": [
      "[[ 0 12]\n",
      " [ 0 18]]\n",
      "{'Accuracy': 0.6, 'Precision': 0.6, 'Recall': 1.0, 'F1 Score': 0.7499999999999999, 'AUC': 0.5, 'MSE': 0.4}\n"
     ]
    }
   ],
   "source": [
    "logestic_regression(\n",
    "    df_train_test, X_test, y_test, df_evaluation_test, df_confusion_test\n",
    ")"
   ]
  },
  {
   "cell_type": "code",
   "execution_count": 194,
   "metadata": {},
   "outputs": [
    {
     "name": "stdout",
     "output_type": "stream",
     "text": [
      "[[ 7  5]\n",
      " [ 8 10]]\n",
      "{'Accuracy': 0.5666666666666667, 'Precision': 0.6666666666666666, 'Recall': 0.5555555555555556, 'F1 Score': 0.606060606060606, 'AUC': 0.5694444444444444, 'MSE': 0.43333333333333335}\n"
     ]
    }
   ],
   "source": [
    "max_depth = 20\n",
    "decision_tree_classifier(\n",
    "    df_train_test,\n",
    "    X_test,\n",
    "    y_test,\n",
    "    df_evaluation_test,\n",
    "    df_confusion_test,\n",
    "    max_depth,\n",
    ")"
   ]
  },
  {
   "cell_type": "code",
   "execution_count": 195,
   "metadata": {},
   "outputs": [
    {
     "name": "stdout",
     "output_type": "stream",
     "text": [
      "[[6 6]\n",
      " [9 9]]\n",
      "{'Accuracy': 0.5, 'Precision': 0.6, 'Recall': 0.5, 'F1 Score': 0.5454545454545454, 'AUC': 0.5, 'MSE': 0.5}\n"
     ]
    }
   ],
   "source": [
    "max_depth = 20\n",
    "decision_tree_classifier(\n",
    "    df_train_test_no_outliers_zScore,\n",
    "    X_test,\n",
    "    y_test,\n",
    "    df_evaluation_test,\n",
    "    df_confusion_test,\n",
    "    max_depth,\n",
    ")"
   ]
  },
  {
   "cell_type": "code",
   "execution_count": 196,
   "metadata": {},
   "outputs": [
    {
     "name": "stdout",
     "output_type": "stream",
     "text": [
      "[[ 7  5]\n",
      " [ 8 10]]\n",
      "{'Accuracy': 0.5666666666666667, 'Precision': 0.6666666666666666, 'Recall': 0.5555555555555556, 'F1 Score': 0.606060606060606, 'AUC': 0.5694444444444444, 'MSE': 0.43333333333333335}\n"
     ]
    }
   ],
   "source": [
    "max_depth = 20\n",
    "decision_tree_classifier(\n",
    "    df_train_test_no_outliers_lof,\n",
    "    X_test,\n",
    "    y_test,\n",
    "    df_evaluation_test,\n",
    "    df_confusion_test,\n",
    "    max_depth,\n",
    ")"
   ]
  },
  {
   "cell_type": "code",
   "execution_count": 87,
   "metadata": {},
   "outputs": [
    {
     "name": "stdout",
     "output_type": "stream",
     "text": [
      "[[ 0 12]\n",
      " [ 0 18]]\n",
      "{'Accuracy': 0.6, 'Precision': 0.6, 'Recall': 1.0, 'F1 Score': 0.7499999999999999, 'AUC': 0.5, 'MSE': 0.4}\n"
     ]
    }
   ],
   "source": [
    "svm(df_train_test.copy(), X_test, y_test, df_evaluation_test, df_confusion_test)"
   ]
  },
  {
   "cell_type": "code",
   "execution_count": 217,
   "metadata": {},
   "outputs": [
    {
     "name": "stdout",
     "output_type": "stream",
     "text": [
      "[[ 0 12]\n",
      " [ 0 18]]\n",
      "{'Accuracy': 0.6, 'Precision': 0.6, 'Recall': 1.0, 'F1 Score': 0.7499999999999999, 'AUC': 0.5, 'MSE': 0.4}\n"
     ]
    }
   ],
   "source": [
    "ada_boost(df_train_test, X_test, y_test, df_evaluation_test, df_confusion_test)"
   ]
  },
  {
   "cell_type": "code",
   "execution_count": 218,
   "metadata": {},
   "outputs": [
    {
     "name": "stdout",
     "output_type": "stream",
     "text": [
      "[[ 0 12]\n",
      " [ 0 18]]\n",
      "{'Accuracy': 0.6, 'Precision': 0.6, 'Recall': 1.0, 'F1 Score': 0.7499999999999999, 'AUC': 0.5, 'MSE': 0.4}\n"
     ]
    }
   ],
   "source": [
    "ada_boost(\n",
    "    df_train_test_no_outliers_zScore,\n",
    "    X_test,\n",
    "    y_test,\n",
    "    df_evaluation_test,\n",
    "    df_confusion_test,\n",
    ")"
   ]
  },
  {
   "cell_type": "code",
   "execution_count": 219,
   "metadata": {},
   "outputs": [
    {
     "name": "stdout",
     "output_type": "stream",
     "text": [
      "[[ 0 12]\n",
      " [ 0 18]]\n",
      "{'Accuracy': 0.6, 'Precision': 0.6, 'Recall': 1.0, 'F1 Score': 0.7499999999999999, 'AUC': 0.5, 'MSE': 0.4}\n"
     ]
    }
   ],
   "source": [
    "ada_boost(\n",
    "    df_train_test_no_outliers_lof, X_test, y_test, df_evaluation_test, df_confusion_test\n",
    ")"
   ]
  },
  {
   "cell_type": "code",
   "execution_count": 243,
   "metadata": {},
   "outputs": [
    {
     "name": "stdout",
     "output_type": "stream",
     "text": [
      "[[ 6  6]\n",
      " [ 5 13]]\n",
      "{'Accuracy': 0.6333333333333333, 'Precision': 0.6842105263157895, 'Recall': 0.7222222222222222, 'F1 Score': 0.7027027027027027, 'AUC': 0.6111111111111112, 'MSE': 0.36666666666666664}\n"
     ]
    }
   ],
   "source": [
    "n_neighbors = 5\n",
    "\n",
    "\n",
    "metric = \"minkowski\"\n",
    "knn(\n",
    "    df_train_test,\n",
    "    X_test,\n",
    "    y_test,\n",
    "    df_evaluation_test,\n",
    "    df_confusion_test,\n",
    "    n_neighbors,\n",
    "    metric,\n",
    ")"
   ]
  },
  {
   "cell_type": "code",
   "execution_count": 92,
   "metadata": {},
   "outputs": [
    {
     "name": "stdout",
     "output_type": "stream",
     "text": [
      "[[ 5  7]\n",
      " [ 5 13]]\n",
      "{'Accuracy': 0.6, 'Precision': 0.65, 'Recall': 0.7222222222222222, 'F1 Score': 0.6842105263157895, 'AUC': 0.5694444444444444, 'MSE': 0.4}\n"
     ]
    }
   ],
   "source": [
    "n_neighbors = 5\n",
    "\n",
    "\n",
    "metric = \"minkowski\"\n",
    "knn(\n",
    "    df_train_test_no_outliers_zScore,\n",
    "    X_test,\n",
    "    y_test,\n",
    "    df_evaluation_test,\n",
    "    df_confusion_test,\n",
    "    n_neighbors,\n",
    "    metric,\n",
    ")"
   ]
  },
  {
   "cell_type": "code",
   "execution_count": 93,
   "metadata": {},
   "outputs": [
    {
     "name": "stdout",
     "output_type": "stream",
     "text": [
      "[[ 5  7]\n",
      " [ 5 13]]\n",
      "{'Accuracy': 0.6, 'Precision': 0.65, 'Recall': 0.7222222222222222, 'F1 Score': 0.6842105263157895, 'AUC': 0.5694444444444444, 'MSE': 0.4}\n"
     ]
    }
   ],
   "source": [
    "n_neighbors = 5\n",
    "\n",
    "\n",
    "metric = \"minkowski\"\n",
    "knn(\n",
    "    df_train_test_no_outliers_lof,\n",
    "    X_test,\n",
    "    y_test,\n",
    "    df_evaluation_test,\n",
    "    df_confusion_test,\n",
    "    n_neighbors,\n",
    "    metric,\n",
    ")"
   ]
  },
  {
   "cell_type": "code",
   "execution_count": 242,
   "metadata": {},
   "outputs": [
    {
     "name": "stdout",
     "output_type": "stream",
     "text": [
      "[[ 6  6]\n",
      " [ 5 13]]\n",
      "{'Accuracy': 0.6333333333333333, 'Precision': 0.6842105263157895, 'Recall': 0.7222222222222222, 'F1 Score': 0.7027027027027027, 'AUC': 0.6111111111111112, 'MSE': 0.36666666666666664}\n"
     ]
    }
   ],
   "source": [
    "max_depth = 15\n",
    "n_estimators = 100\n",
    "random_forest_classifier(\n",
    "    df_train_test,\n",
    "    X_test,\n",
    "    y_test,\n",
    "    df_evaluation_test,\n",
    "    df_confusion_test,\n",
    "    max_depth,\n",
    "    n_estimators,\n",
    ")"
   ]
  },
  {
   "cell_type": "code",
   "execution_count": 95,
   "metadata": {},
   "outputs": [
    {
     "name": "stdout",
     "output_type": "stream",
     "text": [
      "[[ 4  8]\n",
      " [ 5 13]]\n",
      "{'Accuracy': 0.5666666666666667, 'Precision': 0.6190476190476191, 'Recall': 0.7222222222222222, 'F1 Score': 0.6666666666666666, 'AUC': 0.5277777777777778, 'MSE': 0.43333333333333335}\n"
     ]
    }
   ],
   "source": [
    "max_depth = 13\n",
    "n_estimators = 100\n",
    "random_forest_classifier(\n",
    "    df_train_test_no_outliers_zScore,\n",
    "    X_test,\n",
    "    y_test,\n",
    "    df_evaluation_test,\n",
    "    df_confusion_test,\n",
    "    max_depth,\n",
    "    n_estimators,\n",
    ")"
   ]
  },
  {
   "cell_type": "code",
   "execution_count": 96,
   "metadata": {},
   "outputs": [
    {
     "name": "stdout",
     "output_type": "stream",
     "text": [
      "[[ 4  8]\n",
      " [ 8 10]]\n",
      "{'Accuracy': 0.4666666666666667, 'Precision': 0.5555555555555556, 'Recall': 0.5555555555555556, 'F1 Score': 0.5555555555555556, 'AUC': 0.4444444444444445, 'MSE': 0.5333333333333333}\n"
     ]
    }
   ],
   "source": [
    "max_depth = 13\n",
    "n_estimators = 100\n",
    "random_forest_classifier(\n",
    "    df_train_test_no_outliers_lof,\n",
    "    X_test,\n",
    "    y_test,\n",
    "    df_evaluation_test,\n",
    "    df_confusion_test,\n",
    "    max_depth,\n",
    "    n_estimators,\n",
    ")"
   ]
  },
  {
   "cell_type": "code",
   "execution_count": 97,
   "metadata": {},
   "outputs": [
    {
     "name": "stdout",
     "output_type": "stream",
     "text": [
      "[[ 0 12]\n",
      " [ 0 18]]\n",
      "{'Accuracy': 0.6, 'Precision': 0.6, 'Recall': 1.0, 'F1 Score': 0.7499999999999999, 'AUC': 0.5, 'MSE': 0.4}\n"
     ]
    }
   ],
   "source": [
    "gaussian_nb(df_train_test, X_test, y_test, df_evaluation_test, df_confusion_test)"
   ]
  },
  {
   "cell_type": "code",
   "execution_count": 98,
   "metadata": {},
   "outputs": [
    {
     "name": "stdout",
     "output_type": "stream",
     "text": [
      "[[ 5  7]\n",
      " [ 8 10]]\n",
      "{'Accuracy': 0.5, 'Precision': 0.5882352941176471, 'Recall': 0.5555555555555556, 'F1 Score': 0.5714285714285715, 'AUC': 0.48611111111111116, 'MSE': 0.5}\n"
     ]
    }
   ],
   "source": [
    "xg_boost(df_train_test, X_test, y_test, df_evaluation_test, df_confusion_test)"
   ]
  },
  {
   "cell_type": "code",
   "execution_count": 99,
   "metadata": {},
   "outputs": [
    {
     "name": "stdout",
     "output_type": "stream",
     "text": [
      "[[6 6]\n",
      " [9 9]]\n",
      "{'Accuracy': 0.5, 'Precision': 0.6, 'Recall': 0.5, 'F1 Score': 0.5454545454545454, 'AUC': 0.5, 'MSE': 0.5}\n"
     ]
    }
   ],
   "source": [
    "xg_boost(\n",
    "    df_train_test_no_outliers_zScore,\n",
    "    X_test,\n",
    "    y_test,\n",
    "    df_evaluation_test,\n",
    "    df_confusion_test,\n",
    ")"
   ]
  },
  {
   "cell_type": "code",
   "execution_count": 100,
   "metadata": {},
   "outputs": [
    {
     "name": "stdout",
     "output_type": "stream",
     "text": [
      "[[ 6  6]\n",
      " [10  8]]\n",
      "{'Accuracy': 0.4666666666666667, 'Precision': 0.5714285714285714, 'Recall': 0.4444444444444444, 'F1 Score': 0.5, 'AUC': 0.4722222222222222, 'MSE': 0.5333333333333333}\n"
     ]
    }
   ],
   "source": [
    "xg_boost(\n",
    "    df_train_test_no_outliers_lof, X_test, y_test, df_evaluation_test, df_confusion_test\n",
    ")"
   ]
  },
  {
   "cell_type": "code",
   "execution_count": 246,
   "metadata": {},
   "outputs": [
    {
     "name": "stdout",
     "output_type": "stream",
     "text": [
      "[[ 7  5]\n",
      " [10  8]]\n",
      "{'Accuracy': 0.5, 'Precision': 0.6153846153846154, 'Recall': 0.4444444444444444, 'F1 Score': 0.5161290322580646, 'AUC': 0.5138888888888888, 'MSE': 0.5}\n"
     ]
    }
   ],
   "source": [
    "stacking(df_train_test, X_test, y_test, df_evaluation_test, df_confusion_test)"
   ]
  },
  {
   "cell_type": "code",
   "execution_count": 102,
   "metadata": {},
   "outputs": [
    {
     "name": "stdout",
     "output_type": "stream",
     "text": [
      "[[ 7  5]\n",
      " [ 6 12]]\n",
      "{'Accuracy': 0.6333333333333333, 'Precision': 0.7058823529411765, 'Recall': 0.6666666666666666, 'F1 Score': 0.6857142857142857, 'AUC': 0.6249999999999999, 'MSE': 0.36666666666666664}\n"
     ]
    }
   ],
   "source": [
    "stacking(\n",
    "    df_train_test_no_outliers_zScore,\n",
    "    X_test,\n",
    "    y_test,\n",
    "    df_evaluation_test,\n",
    "    df_confusion_test,\n",
    ")"
   ]
  },
  {
   "cell_type": "code",
   "execution_count": 103,
   "metadata": {},
   "outputs": [
    {
     "name": "stdout",
     "output_type": "stream",
     "text": [
      "[[ 7  5]\n",
      " [12  6]]\n",
      "{'Accuracy': 0.43333333333333335, 'Precision': 0.5454545454545454, 'Recall': 0.3333333333333333, 'F1 Score': 0.41379310344827586, 'AUC': 0.45833333333333326, 'MSE': 0.5666666666666667}\n"
     ]
    }
   ],
   "source": [
    "stacking(\n",
    "    df_train_test_no_outliers_lof, X_test, y_test, df_evaluation_test, df_confusion_test\n",
    ")"
   ]
  },
  {
   "cell_type": "markdown",
   "metadata": {},
   "source": [
    "### Evaluation\n"
   ]
  },
  {
   "cell_type": "code",
   "execution_count": 104,
   "metadata": {},
   "outputs": [
    {
     "data": {
      "text/html": [
       "<div>\n",
       "<style scoped>\n",
       "    .dataframe tbody tr th:only-of-type {\n",
       "        vertical-align: middle;\n",
       "    }\n",
       "\n",
       "    .dataframe tbody tr th {\n",
       "        vertical-align: top;\n",
       "    }\n",
       "\n",
       "    .dataframe thead th {\n",
       "        text-align: right;\n",
       "    }\n",
       "</style>\n",
       "<table border=\"1\" class=\"dataframe\">\n",
       "  <thead>\n",
       "    <tr style=\"text-align: right;\">\n",
       "      <th></th>\n",
       "      <th>Accuracy</th>\n",
       "      <th>Precision</th>\n",
       "      <th>Recall</th>\n",
       "      <th>F1 Score</th>\n",
       "      <th>AUC</th>\n",
       "      <th>MSE</th>\n",
       "    </tr>\n",
       "  </thead>\n",
       "  <tbody>\n",
       "    <tr>\n",
       "      <th>Logistic Regression</th>\n",
       "      <td>0.600000</td>\n",
       "      <td>0.600000</td>\n",
       "      <td>1.000000</td>\n",
       "      <td>0.750000</td>\n",
       "      <td>0.500000</td>\n",
       "      <td>0.400000</td>\n",
       "    </tr>\n",
       "    <tr>\n",
       "      <th>Decision Tree</th>\n",
       "      <td>0.466667</td>\n",
       "      <td>0.555556</td>\n",
       "      <td>0.555556</td>\n",
       "      <td>0.555556</td>\n",
       "      <td>0.444444</td>\n",
       "      <td>0.533333</td>\n",
       "    </tr>\n",
       "    <tr>\n",
       "      <th>SVM</th>\n",
       "      <td>0.600000</td>\n",
       "      <td>0.600000</td>\n",
       "      <td>1.000000</td>\n",
       "      <td>0.750000</td>\n",
       "      <td>0.500000</td>\n",
       "      <td>0.400000</td>\n",
       "    </tr>\n",
       "    <tr>\n",
       "      <th>Ada Boost</th>\n",
       "      <td>0.666667</td>\n",
       "      <td>0.642857</td>\n",
       "      <td>1.000000</td>\n",
       "      <td>0.782609</td>\n",
       "      <td>0.583333</td>\n",
       "      <td>0.333333</td>\n",
       "    </tr>\n",
       "    <tr>\n",
       "      <th>KNN</th>\n",
       "      <td>0.600000</td>\n",
       "      <td>0.650000</td>\n",
       "      <td>0.722222</td>\n",
       "      <td>0.684211</td>\n",
       "      <td>0.569444</td>\n",
       "      <td>0.400000</td>\n",
       "    </tr>\n",
       "    <tr>\n",
       "      <th>Random Forest</th>\n",
       "      <td>0.466667</td>\n",
       "      <td>0.555556</td>\n",
       "      <td>0.555556</td>\n",
       "      <td>0.555556</td>\n",
       "      <td>0.444444</td>\n",
       "      <td>0.533333</td>\n",
       "    </tr>\n",
       "    <tr>\n",
       "      <th>Gaussian NB</th>\n",
       "      <td>0.600000</td>\n",
       "      <td>0.600000</td>\n",
       "      <td>1.000000</td>\n",
       "      <td>0.750000</td>\n",
       "      <td>0.500000</td>\n",
       "      <td>0.400000</td>\n",
       "    </tr>\n",
       "    <tr>\n",
       "      <th>Xg Boost</th>\n",
       "      <td>0.466667</td>\n",
       "      <td>0.571429</td>\n",
       "      <td>0.444444</td>\n",
       "      <td>0.500000</td>\n",
       "      <td>0.472222</td>\n",
       "      <td>0.533333</td>\n",
       "    </tr>\n",
       "    <tr>\n",
       "      <th>Stacking ()</th>\n",
       "      <td>0.433333</td>\n",
       "      <td>0.545455</td>\n",
       "      <td>0.333333</td>\n",
       "      <td>0.413793</td>\n",
       "      <td>0.458333</td>\n",
       "      <td>0.566667</td>\n",
       "    </tr>\n",
       "  </tbody>\n",
       "</table>\n",
       "</div>"
      ],
      "text/plain": [
       "                     Accuracy  Precision    Recall  F1 Score       AUC  \\\n",
       "Logistic Regression  0.600000   0.600000  1.000000  0.750000  0.500000   \n",
       "Decision Tree        0.466667   0.555556  0.555556  0.555556  0.444444   \n",
       "SVM                  0.600000   0.600000  1.000000  0.750000  0.500000   \n",
       "Ada Boost            0.666667   0.642857  1.000000  0.782609  0.583333   \n",
       "KNN                  0.600000   0.650000  0.722222  0.684211  0.569444   \n",
       "Random Forest        0.466667   0.555556  0.555556  0.555556  0.444444   \n",
       "Gaussian NB          0.600000   0.600000  1.000000  0.750000  0.500000   \n",
       "Xg Boost             0.466667   0.571429  0.444444  0.500000  0.472222   \n",
       "Stacking ()          0.433333   0.545455  0.333333  0.413793  0.458333   \n",
       "\n",
       "                          MSE  \n",
       "Logistic Regression  0.400000  \n",
       "Decision Tree        0.533333  \n",
       "SVM                  0.400000  \n",
       "Ada Boost            0.333333  \n",
       "KNN                  0.400000  \n",
       "Random Forest        0.533333  \n",
       "Gaussian NB          0.400000  \n",
       "Xg Boost             0.533333  \n",
       "Stacking ()          0.566667  "
      ]
     },
     "execution_count": 104,
     "metadata": {},
     "output_type": "execute_result"
    }
   ],
   "source": [
    "df_evaluation_test"
   ]
  },
  {
   "cell_type": "code",
   "execution_count": 105,
   "metadata": {},
   "outputs": [
    {
     "data": {
      "text/html": [
       "<div>\n",
       "<style scoped>\n",
       "    .dataframe tbody tr th:only-of-type {\n",
       "        vertical-align: middle;\n",
       "    }\n",
       "\n",
       "    .dataframe tbody tr th {\n",
       "        vertical-align: top;\n",
       "    }\n",
       "\n",
       "    .dataframe thead th {\n",
       "        text-align: right;\n",
       "    }\n",
       "</style>\n",
       "<table border=\"1\" class=\"dataframe\">\n",
       "  <thead>\n",
       "    <tr style=\"text-align: right;\">\n",
       "      <th></th>\n",
       "      <th>tn</th>\n",
       "      <th>fp</th>\n",
       "      <th>fn</th>\n",
       "      <th>tp</th>\n",
       "    </tr>\n",
       "  </thead>\n",
       "  <tbody>\n",
       "    <tr>\n",
       "      <th>Logistic Regression</th>\n",
       "      <td>0</td>\n",
       "      <td>12</td>\n",
       "      <td>0</td>\n",
       "      <td>18</td>\n",
       "    </tr>\n",
       "    <tr>\n",
       "      <th>Decision Tree</th>\n",
       "      <td>4</td>\n",
       "      <td>8</td>\n",
       "      <td>8</td>\n",
       "      <td>10</td>\n",
       "    </tr>\n",
       "    <tr>\n",
       "      <th>SVM</th>\n",
       "      <td>0</td>\n",
       "      <td>12</td>\n",
       "      <td>0</td>\n",
       "      <td>18</td>\n",
       "    </tr>\n",
       "    <tr>\n",
       "      <th>Ada Boost</th>\n",
       "      <td>2</td>\n",
       "      <td>10</td>\n",
       "      <td>0</td>\n",
       "      <td>18</td>\n",
       "    </tr>\n",
       "    <tr>\n",
       "      <th>KNN</th>\n",
       "      <td>5</td>\n",
       "      <td>7</td>\n",
       "      <td>5</td>\n",
       "      <td>13</td>\n",
       "    </tr>\n",
       "    <tr>\n",
       "      <th>Random Forest</th>\n",
       "      <td>4</td>\n",
       "      <td>8</td>\n",
       "      <td>8</td>\n",
       "      <td>10</td>\n",
       "    </tr>\n",
       "    <tr>\n",
       "      <th>Gaussian NB</th>\n",
       "      <td>0</td>\n",
       "      <td>12</td>\n",
       "      <td>0</td>\n",
       "      <td>18</td>\n",
       "    </tr>\n",
       "    <tr>\n",
       "      <th>Xg Boost</th>\n",
       "      <td>6</td>\n",
       "      <td>6</td>\n",
       "      <td>10</td>\n",
       "      <td>8</td>\n",
       "    </tr>\n",
       "    <tr>\n",
       "      <th>Stacking ()</th>\n",
       "      <td>7</td>\n",
       "      <td>5</td>\n",
       "      <td>12</td>\n",
       "      <td>6</td>\n",
       "    </tr>\n",
       "  </tbody>\n",
       "</table>\n",
       "</div>"
      ],
      "text/plain": [
       "                     tn  fp  fn  tp\n",
       "Logistic Regression   0  12   0  18\n",
       "Decision Tree         4   8   8  10\n",
       "SVM                   0  12   0  18\n",
       "Ada Boost             2  10   0  18\n",
       "KNN                   5   7   5  13\n",
       "Random Forest         4   8   8  10\n",
       "Gaussian NB           0  12   0  18\n",
       "Xg Boost              6   6  10   8\n",
       "Stacking ()           7   5  12   6"
      ]
     },
     "execution_count": 105,
     "metadata": {},
     "output_type": "execute_result"
    }
   ],
   "source": [
    "df_confusion_test"
   ]
  },
  {
   "cell_type": "code",
   "execution_count": 106,
   "metadata": {},
   "outputs": [
    {
     "data": {
      "text/plain": [
       "0.5714285714285715"
      ]
     },
     "execution_count": 106,
     "metadata": {},
     "output_type": "execute_result"
    }
   ],
   "source": [
    "f1_score(y_test, y_test.shift(1).fillna(0))"
   ]
  },
  {
   "cell_type": "code",
   "execution_count": 107,
   "metadata": {},
   "outputs": [
    {
     "data": {
      "text/plain": [
       "Label\n",
       "1    18\n",
       "0    12\n",
       "Name: count, dtype: int64"
      ]
     },
     "execution_count": 107,
     "metadata": {},
     "output_type": "execute_result"
    }
   ],
   "source": [
    "y_test.value_counts()"
   ]
  }
 ],
 "metadata": {
  "kernelspec": {
   "display_name": "python_bootcamp",
   "language": "python",
   "name": "python3"
  },
  "language_info": {
   "codemirror_mode": {
    "name": "ipython",
    "version": 3
   },
   "file_extension": ".py",
   "mimetype": "text/x-python",
   "name": "python",
   "nbconvert_exporter": "python",
   "pygments_lexer": "ipython3",
   "version": "3.9.12"
  },
  "orig_nbformat": 4
 },
 "nbformat": 4,
 "nbformat_minor": 2
}
